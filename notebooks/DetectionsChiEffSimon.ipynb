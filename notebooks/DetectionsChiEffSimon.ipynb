{
 "cells": [
  {
   "cell_type": "markdown",
   "metadata": {},
   "source": [
    "This is Simon's independent code that was developed at the same time as Will's. It has been used to check Will's numbers. It also performs the mixture modelling and produces plots of the posterior on the mixing fraction f_i "
   ]
  },
  {
   "cell_type": "code",
   "execution_count": 1,
   "metadata": {
    "collapsed": true
   },
   "outputs": [],
   "source": [
    "import matplotlib.pyplot as plt\n",
    "import numpy as np\n",
    "import scipy.stats\n",
    "import emcee\n",
    "import corner\n",
    "import os\n",
    "# from emcee import PTSampler\n",
    "# from scipy.integrate import trapz\n",
    "%matplotlib inline\n",
    "\n",
    "big_enough_font=20"
   ]
  },
  {
   "cell_type": "code",
   "execution_count": 2,
   "metadata": {
    "collapsed": true
   },
   "outputs": [],
   "source": [
    "this_plot_folder = \"detections_spin_measurement/\"\n",
    "\n",
    "if(np.logical_not(os.path.exists(this_plot_folder))):\n",
    "    os.mkdir(this_plot_folder)"
   ]
  },
  {
   "cell_type": "code",
   "execution_count": 3,
   "metadata": {
    "collapsed": false
   },
   "outputs": [],
   "source": [
    "npts = int(1E6)\n",
    "aligned_model_costheta1 = np.ones(npts)\n",
    "aligned_model_costheta2 = np.ones(npts)\n",
    "\n",
    "gaussian_aligned_model_costheta1_trial = scipy.stats.norm.rvs(loc=1.0, scale=0.1, size=npts*10)\n",
    "gaussian_aligned_model_costheta2_trial = scipy.stats.norm.rvs(loc=1.0, scale=0.1, size=npts*10)\n",
    "\n",
    "gaussian_aligned_costheta1_ok = np.logical_and(gaussian_aligned_model_costheta1_trial >= -1.0, gaussian_aligned_model_costheta1_trial <= 1.0)\n",
    "gaussian_aligned_costheta2_ok = np.logical_and(gaussian_aligned_model_costheta2_trial >= -1.0, gaussian_aligned_model_costheta2_trial <= 1.0)\n",
    "gaussian_aligned_both_ok = np.logical_and(gaussian_aligned_costheta1_ok, gaussian_aligned_costheta2_ok)\n",
    "\n",
    "gaussian_aligned_model_costheta1 = gaussian_aligned_model_costheta1_trial[gaussian_aligned_both_ok][0:npts]\n",
    "gaussian_aligned_model_costheta2 = gaussian_aligned_model_costheta2_trial[gaussian_aligned_both_ok][0:npts]\n",
    "\n",
    "isotropic_model_costheta1 = np.random.uniform(-1,1,npts)\n",
    "isotropic_model_costheta2 = np.random.uniform(-1,1,npts)"
   ]
  },
  {
   "cell_type": "code",
   "execution_count": 4,
   "metadata": {
    "collapsed": false
   },
   "outputs": [
    {
     "name": "stdout",
     "output_type": "stream",
     "text": [
      "1000000\n"
     ]
    }
   ],
   "source": [
    "print(len(gaussian_aligned_model_costheta1))"
   ]
  },
  {
   "cell_type": "code",
   "execution_count": 5,
   "metadata": {
    "collapsed": false
   },
   "outputs": [],
   "source": [
    "# plt.figure()\n",
    "# plt.clf()\n",
    "# plt.scatter(gaussian_aligned_model_costheta1, gaussian_aligned_model_costheta2, marker='x')\n",
    "# plt.xlim([-1.0, 1.0])\n",
    "# plt.ylim([-1.0, 1.0])\n",
    "# plt.xlabel(r\"\")\n",
    "# plt.ylabel(r\"\")\n",
    "# plt.tight_layout()"
   ]
  },
  {
   "cell_type": "code",
   "execution_count": 6,
   "metadata": {
    "collapsed": false
   },
   "outputs": [],
   "source": [
    "# # plt.scatter(aligned_model_costheta1, aligned_model_costheta2)\n",
    "# plt.figure()\n",
    "# plt.clf()\n",
    "# plt.scatter(isotropic_model_costheta1, isotropic_model_costheta2, marker='x')\n",
    "# plt.xlim([-1,1])\n",
    "# plt.ylim([-1,1])\n",
    "# plt.xlabel(r\"\")\n",
    "# plt.ylabel(r\"\")\n",
    "# plt.tight_layout()"
   ]
  },
  {
   "cell_type": "code",
   "execution_count": 7,
   "metadata": {
    "collapsed": true
   },
   "outputs": [],
   "source": [
    "def chi_eff(q, chi1, chi2, costheta1, costheta2):\n",
    "    return (chi1*costheta1 + q*chi2*costheta2)/(1.0+q)"
   ]
  },
  {
   "cell_type": "code",
   "execution_count": 8,
   "metadata": {
    "collapsed": true
   },
   "outputs": [],
   "source": [
    "def p_inverse_thermal(x):\n",
    "    return 2.0*(1.0 - x)\n",
    "\n",
    "def p_thermal(x):\n",
    "    return 2.0*(x)\n",
    "\n",
    "def p_power_law(x):\n",
    "    return 0\n",
    "\n",
    "def p_extremely_low(x):\n",
    "    return (1.0-x)**4.0\n",
    "\n",
    "def p_extremely_high(x):\n",
    "    return x**4.0"
   ]
  },
  {
   "cell_type": "code",
   "execution_count": 9,
   "metadata": {
    "collapsed": true
   },
   "outputs": [],
   "source": [
    "x = np.linspace(0.0, 1.0, 100)\n",
    "prob_inverse_thermal = p_inverse_thermal(x)\n",
    "prob_thermal = p_thermal(x)"
   ]
  },
  {
   "cell_type": "code",
   "execution_count": 10,
   "metadata": {
    "collapsed": false
   },
   "outputs": [],
   "source": [
    "# print(np.sum(p_extremely_low(x)) * 0.01)\n",
    "# print(np.sum(p_inverse_thermal(x)) * 0.01) \n",
    "# print(np.mean(p_inverse_thermal(x)))\n",
    "# print(np.mean(p_extremely_low(x)))"
   ]
  },
  {
   "cell_type": "code",
   "execution_count": 11,
   "metadata": {
    "collapsed": true
   },
   "outputs": [],
   "source": [
    "ZERO_SPIN_MAGNITUDE = 0\n",
    "UNIFORM_SPIN_MAGNITUDE = 1\n",
    "THERMAL_SPIN_MAGNITUDE = 2\n",
    "INVERSE_THERMAL_SPIN_MAGNITUDE = 3\n",
    "EXTREMELY_LOW_SPIN_MAGNITUDE = 4 \n",
    "EXTREMELY_HIGH_SPIN_MAGNITUDE = 5\n",
    "PROXY_ALIGNED = 6\n",
    "PROXY_ISOTROPIC = 7"
   ]
  },
  {
   "cell_type": "code",
   "execution_count": 12,
   "metadata": {
    "collapsed": false
   },
   "outputs": [],
   "source": [
    "#--- Model where all black holes have a fixed spin\n",
    "fixed_spin_magnitude = 1.0\n",
    "chi1_fixed = np.ones(npts) * fixed_spin_magnitude\n",
    "chi2_fixed = np.ones(npts) * fixed_spin_magnitude\n",
    "\n",
    "#-- Model where black holes have spins uniform in 0,1\n",
    "chi1_uniform = np.random.uniform(0.0, 1.0, npts)\n",
    "chi2_uniform = np.random.uniform(0.0, 1.0, npts)\n",
    "\n",
    "#-- Model where all black holes are born non spinnning\n",
    "chi1_zero = np.zeros(npts)\n",
    "chi2_zero = np.zeros(npts)\n",
    "\n",
    "#-- I think the dominant uncertainty is in not knowing what the distribution \n",
    "# of spin magnitudes are - make an alternative simple model of spin magnitude distribution\n",
    "# and test effect on inference\n",
    "chi1_inverse_thermal = np.random.uniform(0.0, 1.0, 3*npts)\n",
    "prob_chi1_inverse_thermal = p_inverse_thermal(chi1_inverse_thermal)\n",
    "chi1_rands = np.random.uniform(0.0, max(prob_chi1_inverse_thermal), 3*npts)\n",
    "chi1_keep = chi1_rands < prob_chi1_inverse_thermal\n",
    "chi1_inverse_thermal = chi1_inverse_thermal[chi1_keep]\n",
    "if(len(chi1_inverse_thermal) > npts):\n",
    "    chi1_inverse_thermal = chi1_inverse_thermal[0:npts]\n",
    "# print(len(chi1_inverse_thermal))\n",
    "\n",
    "chi1_thermal = np.random.uniform(0.0, 1.0, 3*npts)\n",
    "prob_chi1_thermal = p_thermal(chi1_thermal)\n",
    "chi1_rands = np.random.uniform(0.0, max(prob_chi1_thermal), 3*npts)\n",
    "chi1_keep = chi1_rands < prob_chi1_thermal\n",
    "chi1_thermal = chi1_thermal[chi1_keep]\n",
    "if(len(chi1_thermal) > npts):\n",
    "    chi1_thermal = chi1_thermal[0:npts]\n",
    "\n",
    "chi2_inverse_thermal = np.random.uniform(0.0, 1.0, 3*npts)\n",
    "prob_chi2_inverse_thermal = p_inverse_thermal(chi2_inverse_thermal)\n",
    "chi2_rands = np.random.uniform(0.0, max(prob_chi2_inverse_thermal), 3*npts)\n",
    "chi2_keep = chi2_rands < prob_chi2_inverse_thermal\n",
    "chi2_inverse_thermal = chi2_inverse_thermal[chi2_keep]\n",
    "if(len(chi2_inverse_thermal) > npts):\n",
    "    chi2_inverse_thermal = chi2_inverse_thermal[0:npts]\n",
    "# print(len(chi2_inverse_thermal))\n",
    "\n",
    "chi2_thermal = np.random.uniform(0.0, 1.0, 3*npts)\n",
    "prob_chi2_thermal = p_thermal(chi2_thermal)\n",
    "chi2_rands = np.random.uniform(0.0, max(prob_chi2_thermal), 3*npts)\n",
    "chi2_keep = chi2_rands < prob_chi2_thermal\n",
    "chi2_thermal = chi2_thermal[chi2_keep]\n",
    "if(len(chi2_thermal) > npts):\n",
    "    chi2_thermal = chi2_thermal[0:npts]\n",
    "\n",
    "mass_ratio = np.ones(npts)"
   ]
  },
  {
   "cell_type": "code",
   "execution_count": 13,
   "metadata": {
    "collapsed": false
   },
   "outputs": [
    {
     "name": "stdout",
     "output_type": "stream",
     "text": [
      "Flat: prob a < 0.2 =  0.200171\n",
      "Low: prob a < 0.2 =  0.358881\n",
      "High: prob a < 0.2 =  0.040462\n"
     ]
    }
   ],
   "source": [
    "print(\"Flat: prob a < 0.2 = \", np.sum(chi1_uniform < 0.2)/len(chi1_uniform))\n",
    "print(\"Low: prob a < 0.2 = \", np.sum(chi1_inverse_thermal < 0.2)/len(chi1_inverse_thermal))\n",
    "print(\"High: prob a < 0.2 = \", np.sum(chi1_thermal < 0.2)/len(chi1_thermal))"
   ]
  },
  {
   "cell_type": "code",
   "execution_count": 14,
   "metadata": {
    "collapsed": false
   },
   "outputs": [],
   "source": [
    "nmultiplier=10\n",
    "chi1_extremely_high = np.random.uniform(0.0, 1.0, nmultiplier*npts)\n",
    "prob_chi1_extremely_high = p_extremely_high(chi1_extremely_high)\n",
    "chi1_rands = np.random.uniform(0.0, max(prob_chi1_extremely_high), nmultiplier*npts)\n",
    "chi1_keep = chi1_rands < prob_chi1_extremely_high\n",
    "chi1_extremely_high = chi1_extremely_high[chi1_keep]\n",
    "if(len(chi1_extremely_high) > npts):\n",
    "    chi1_extremely_high = chi1_extremely_high[0:npts]\n",
    "else:\n",
    "    print(len(chi1_extremely_high))\n",
    "    \n",
    "nmultiplier=10\n",
    "chi2_extremely_high = np.random.uniform(0.0, 1.0, nmultiplier*npts)\n",
    "prob_chi2_extremely_high = p_extremely_high(chi2_extremely_high)\n",
    "chi2_rands = np.random.uniform(0.0, max(prob_chi2_extremely_high), nmultiplier*npts)\n",
    "chi2_keep = chi2_rands < prob_chi2_extremely_high\n",
    "chi2_extremely_high = chi2_extremely_high[chi2_keep]\n",
    "if(len(chi2_extremely_high) > npts):\n",
    "    chi2_extremely_high = chi2_extremely_high[0:npts]\n",
    "else:\n",
    "    print(len(chi2_extremely_high))"
   ]
  },
  {
   "cell_type": "code",
   "execution_count": 15,
   "metadata": {
    "collapsed": true
   },
   "outputs": [],
   "source": [
    "nmultiplier=10\n",
    "chi1_extremely_low = np.random.uniform(0.0, 1.0, nmultiplier*npts)\n",
    "prob_chi1_extremely_low = p_extremely_low(chi1_extremely_low)\n",
    "chi1_rands = np.random.uniform(0.0, max(prob_chi1_extremely_low), nmultiplier*npts)\n",
    "chi1_keep = chi1_rands < prob_chi1_extremely_low\n",
    "chi1_extremely_low = chi1_extremely_low[chi1_keep]\n",
    "if(len(chi1_extremely_low) > npts):\n",
    "    chi1_extremely_low = chi1_extremely_low[0:npts]\n",
    "else:\n",
    "    print(len(chi1_extremely_low))\n",
    "\n",
    "nmultiplier=10\n",
    "chi2_extremely_low = np.random.uniform(0.0, 1.0, nmultiplier*npts)\n",
    "prob_chi2_extremely_low = p_extremely_low(chi2_extremely_low)\n",
    "chi2_rands = np.random.uniform(0.0, max(prob_chi2_extremely_low), nmultiplier*npts)\n",
    "chi2_keep = chi2_rands < prob_chi2_extremely_low\n",
    "chi2_extremely_low = chi2_extremely_low[chi2_keep]\n",
    "if(len(chi2_extremely_low) > npts):\n",
    "    chi2_extremely_low = chi2_extremely_low[0:npts]\n",
    "else:\n",
    "    print(len(chi2_extremely_low))"
   ]
  },
  {
   "cell_type": "code",
   "execution_count": 29,
   "metadata": {
    "collapsed": false
   },
   "outputs": [
    {
     "name": "stdout",
     "output_type": "stream",
     "text": [
      "Extremely Low: prob a < 0.2 =  0.67214\n",
      "Extremely High: prob a < 0.2 =  0.000327\n"
     ]
    }
   ],
   "source": [
    "print(\"Extremely Low: prob a < 0.2 = \", np.sum(chi1_extremely_low < 0.2)/len(chi1_extremely_low))\n",
    "print(\"Extremely High: prob a < 0.2 = \", np.sum(chi1_extremely_high < 0.2)/len(chi1_extremely_high))"
   ]
  },
  {
   "cell_type": "code",
   "execution_count": 30,
   "metadata": {
    "collapsed": false
   },
   "outputs": [
    {
     "name": "stderr",
     "output_type": "stream",
     "text": [
      "/Users/simons/miniconda3/lib/python3.5/site-packages/matplotlib/axes/_axes.py:519: UserWarning: No labelled objects found. Use label='...' kwarg on individual plots.\n",
      "  warnings.warn(\"No labelled objects found. \"\n"
     ]
    },
    {
     "data": {
      "image/png": "[encoded data removed]",
      "text/plain": [
       "<matplotlib.figure.Figure at 0x126bb1e48>"
      ]
     },
     "metadata": {},
     "output_type": "display_data"
    }
   ],
   "source": [
    "figname=\"spin_magnitude_distributions_extreme\"\n",
    "plt.figure()\n",
    "plt.clf()\n",
    "# plt.plot(x, p_inverse_thermal(x))\n",
    "plt.plot(x, p_extremely_low(x)/(np.sum(p_extremely_low(x)) * 0.01), color='r', lw=2, label=r\"\")\n",
    "# plt.plot(x, p_thermal(x))\n",
    "plt.plot(x, p_extremely_high(x)/(np.sum(p_extremely_high(x)) * 0.01), color='b', lw=2, label=r\"\")\n",
    "plt.hist(chi1_extremely_high, bins=20, normed=True, color='blue', alpha=0.5, label=r\"\")\n",
    "plt.hist(chi1_extremely_low, bins=20, normed=True, color='red', alpha=0.5, label=r\"\")\n",
    "# plt.plot(x, prob_inverse_thermal, lw=2, color='blue', ls='-', label=r\"$p(a)=2(1-a)$\")\n",
    "# plt.plot(x, prob_thermal, lw=2, color='red', ls='--', label=r\"$p(a)=2a$\")\n",
    "# plt.hist(chi1_inverse_thermal, bins=20, normed=True, color='blue', alpha=0.5)\n",
    "# plt.hist(chi1_thermal, bins=20, normed=True, color='red', alpha=0.5)\n",
    "plt.xlim([0.0, 1.0])\n",
    "plt.ylim()\n",
    "plt.xticks(fontsize=15)\n",
    "plt.yticks(fontsize=15)\n",
    "plt.legend(loc='upper center', framealpha=1.0, fancybox=True)\n",
    "plt.xlabel(r\"$a$\", fontsize=20)\n",
    "plt.ylabel(r\"$p(a)$\", fontsize=20)\n",
    "plt.tight_layout()\n",
    "plt.savefig(this_plot_folder + figname + \".png\", dpi=400)"
   ]
  },
  {
   "cell_type": "code",
   "execution_count": 31,
   "metadata": {
    "collapsed": false
   },
   "outputs": [
    {
     "name": "stdout",
     "output_type": "stream",
     "text": [
      "Extremely Low: 0.166686939808\n",
      "Extremely High: 0.833641029335\n"
     ]
    }
   ],
   "source": [
    "print(\"Extremely Low:\", np.mean(chi1_extremely_low))\n",
    "print(\"Extremely High:\", np.mean(chi2_extremely_high))"
   ]
  },
  {
   "cell_type": "code",
   "execution_count": 37,
   "metadata": {
    "collapsed": false
   },
   "outputs": [
    {
     "data": {
      "image/png": "[encoded data removed]",
      "text/plain": [
       "<matplotlib.figure.Figure at 0x126ba2f98>"
      ]
     },
     "metadata": {},
     "output_type": "display_data"
    }
   ],
   "source": [
    "figname=\"spin_magnitude_distributions_thermal\"\n",
    "plt.figure()\n",
    "plt.clf()\n",
    "plt.plot(x, prob_inverse_thermal, lw=2, color='blue', ls='-', label=r\"$p(a)=2(1-a)$\")\n",
    "plt.plot(x, prob_thermal, lw=2, color='red', ls='--', label=r\"$p(a)=2a$\")\n",
    "# plt.plot(x, np.ones_like(x), lw=2, color='green', ls=':', label=r\"$p(a)=1$\")\n",
    "plt.hist(chi1_inverse_thermal, bins=20, normed=True, color='blue', alpha=0.5)\n",
    "plt.hist(chi1_thermal, bins=20, normed=True, color='red', alpha=0.5)\n",
    "plt.xlim([0.0, 1.0])\n",
    "plt.ylim()\n",
    "plt.xticks(fontsize=15)\n",
    "plt.yticks(fontsize=15)\n",
    "plt.legend(loc='upper center', framealpha=1.0, fancybox=True)\n",
    "plt.xlabel(r\"$a$\", fontsize=20)\n",
    "plt.ylabel(r\"$p(a)$\", fontsize=20)\n",
    "plt.tight_layout()\n",
    "plt.savefig(this_plot_folder + figname + \".png\", dpi=400)"
   ]
  },
  {
   "cell_type": "code",
   "execution_count": 33,
   "metadata": {
    "collapsed": false
   },
   "outputs": [],
   "source": [
    "chi_eff_aligned_fixed_spin = chi_eff(mass_ratio, chi1_fixed, chi2_fixed, aligned_model_costheta1, aligned_model_costheta2)\n",
    "chi_eff_aligned_uniform_spin = chi_eff(mass_ratio, chi1_uniform, chi2_uniform, aligned_model_costheta1, aligned_model_costheta2)\n",
    "chi_eff_aligned_inverse_thermal_spin = chi_eff(mass_ratio, chi1_inverse_thermal, chi2_inverse_thermal, aligned_model_costheta1, aligned_model_costheta2)\n",
    "chi_eff_aligned_thermal_spin = chi_eff(mass_ratio, chi1_thermal, chi2_thermal, aligned_model_costheta1, aligned_model_costheta2)\n",
    "\n",
    "chi_eff_gaussian_aligned_fixed_spin = chi_eff(mass_ratio, chi1_fixed, chi2_fixed, gaussian_aligned_model_costheta1, gaussian_aligned_model_costheta2)\n",
    "chi_eff_gaussian_aligned_uniform_spin = chi_eff(mass_ratio, chi1_fixed, chi2_fixed, gaussian_aligned_model_costheta1, gaussian_aligned_model_costheta2)\n",
    "chi_eff_gaussian_aligned_inverse_thermal_spin = chi_eff(mass_ratio, chi1_inverse_thermal, chi2_inverse_thermal, gaussian_aligned_model_costheta1, gaussian_aligned_model_costheta2)\n",
    "chi_eff_gaussian_aligned_thermal_spin = chi_eff(mass_ratio, chi1_thermal, chi2_thermal, gaussian_aligned_model_costheta1, gaussian_aligned_model_costheta2)\n",
    "\n",
    "chi_eff_isotropic_fixed_spin = chi_eff(mass_ratio, chi1_fixed, chi2_fixed, isotropic_model_costheta1, isotropic_model_costheta2)\n",
    "chi_eff_isotropic_uniform_spin = chi_eff(mass_ratio, chi1_uniform, chi2_uniform, isotropic_model_costheta1, isotropic_model_costheta2)\n",
    "chi_eff_isotropic_inverse_thermal_spin = chi_eff(mass_ratio, chi1_inverse_thermal, chi2_inverse_thermal, isotropic_model_costheta1, isotropic_model_costheta2)\n",
    "chi_eff_isotropic_thermal_spin = chi_eff(mass_ratio, chi1_thermal, chi2_thermal, isotropic_model_costheta1, isotropic_model_costheta2)\n",
    "\n",
    "chi_eff_zero = chi_eff(mass_ratio, chi1_zero, chi2_zero, aligned_model_costheta1, aligned_model_costheta2)"
   ]
  },
  {
   "cell_type": "code",
   "execution_count": 34,
   "metadata": {
    "collapsed": true
   },
   "outputs": [],
   "source": [
    "chi_eff_aligned_extremely_low = chi_eff(mass_ratio, chi1_extremely_low, chi2_extremely_low, aligned_model_costheta1, aligned_model_costheta2)\n",
    "chi_eff_isotropic_extremely_low = chi_eff(mass_ratio, chi1_extremely_low, chi2_extremely_low, isotropic_model_costheta1, isotropic_model_costheta2)\n",
    "\n",
    "chi_eff_aligned_extremely_high = chi_eff(mass_ratio, chi1_extremely_high, chi2_extremely_high, aligned_model_costheta1, aligned_model_costheta2)\n",
    "chi_eff_isotropic_extremely_high = chi_eff(mass_ratio, chi1_extremely_high, chi2_extremely_high, isotropic_model_costheta1, isotropic_model_costheta2)"
   ]
  },
  {
   "cell_type": "code",
   "execution_count": 35,
   "metadata": {
    "collapsed": true
   },
   "outputs": [],
   "source": [
    "chi_eff_flat_above_zero = np.random.uniform(0.0, 1.0, npts)\n",
    "chi_eff_flat_minus_one_one = np.random.uniform(-1.0, 1.0, npts)"
   ]
  },
  {
   "cell_type": "code",
   "execution_count": 38,
   "metadata": {
    "collapsed": true
   },
   "outputs": [],
   "source": [
    "nbins_chi_eff = 100 #40\n",
    "binwidth_chi_eff = (1.0 - -1.0)/nbins_chi_eff\n",
    "bins_chi_eff = np.linspace(-1.0, 1.0, nbins_chi_eff)"
   ]
  },
  {
   "cell_type": "code",
   "execution_count": 39,
   "metadata": {
    "collapsed": false
   },
   "outputs": [
    {
     "data": {
      "image/png": "[encoded data removed]",
      "text/plain": [
       "<matplotlib.figure.Figure at 0x126bdbbe0>"
      ]
     },
     "metadata": {},
     "output_type": "display_data"
    }
   ],
   "source": [
    "figname=\"smeared_chi_eff_spin_magnitude_with_inverse_thermal\"\n",
    "plt.figure()\n",
    "plt.clf()\n",
    "\n",
    "# plt.hist(chi_eff_aligned_fixed_spin, bins=bins_chi_eff, color='black', alpha=0.5, label=r\"aligned fixed\", normed=True) #histtype='step'\n",
    "# plt.hist(chi_eff_aligned_uniform_spin, bins=bins_chi_eff, color='blue', alpha=0.5, label=r\"aligned uniform\", normed=True) #histtype='step'\n",
    "# plt.hist(chi_eff_aligned_inverse_thermal_spin, bins=bins_chi_eff, color='cyan', alpha=0.5, label=r\"aligned inverse thermal\", normed=True) #histtype='step'\n",
    "# plt.hist(chi_eff_aligned_thermal_spin, bins=bins_chi_eff, color=[0,0,0.5], alpha=0.5, label=r\"aligned thermal\", normed=True)\n",
    "\n",
    "plt.hist(chi_eff_gaussian_aligned_fixed_spin, bins=bins_chi_eff, color='gray', alpha=0.5, label=r\"gaussian aligned fixed\", normed=True) #histtype='step'\n",
    "plt.hist(chi_eff_gaussian_aligned_uniform_spin, bins=bins_chi_eff, color='pink', alpha=0.5, label=r\"gaussian aligned uniform\", normed=True) #histtype='step'\n",
    "plt.hist(chi_eff_gaussian_aligned_inverse_thermal_spin, bins=bins_chi_eff, color='yellow', alpha=0.5, label=r\"gaussian aligned inverse thermal\", normed=True) #histtype='step'\n",
    "plt.hist(chi_eff_gaussian_aligned_thermal_spin, bins=bins_chi_eff, color=[0,0.5,0], alpha=0.5, label=r\"gaussian aligned thermal\", normed=True)\n",
    "\n",
    "plt.hist(chi_eff_isotropic_fixed_spin, bins=bins_chi_eff, color='red', alpha=0.5, label=r\"isotropic fixed\", normed=True)\n",
    "plt.hist(chi_eff_isotropic_uniform_spin, bins=bins_chi_eff, color='green', alpha=0.5, label=r\"isotropic uniform\", normed=True) #histtype='step',\n",
    "plt.hist(chi_eff_isotropic_inverse_thermal_spin, bins=bins_chi_eff, color='magenta', alpha=0.5, label=r\"isotropic inverse thermal\", normed=True) #histtype='step',\n",
    "plt.hist(chi_eff_isotropic_thermal_spin, bins=bins_chi_eff, color=[0.5,0,0], alpha=0.5, label=r\"isotropic thermal\", normed=True)\n",
    "\n",
    "plt.hist(chi_eff_zero, bins=bins_chi_eff, color='white', alpha=0.5, label=r\"zero\", normed=True)\n",
    "\n",
    "plt.xlim([-1.1,1.1])\n",
    "plt.ylim([0.0, 3.0])\n",
    "plt.xlabel(r\"$\\chi_\\mathrm{eff}$\", fontsize=20)\n",
    "plt.ylabel(r\"$p(\\chi_\\mathrm{eff})$\", fontsize=20)\n",
    "plt.xticks(fontsize=15)\n",
    "plt.yticks(fontsize=15)\n",
    "plt.legend(loc='upper left', framealpha=0.5, fancybox=True, fontsize=7)\n",
    "plt.tight_layout()\n",
    "plt.savefig(this_plot_folder + figname + \".png\", dpi=400)"
   ]
  },
  {
   "cell_type": "code",
   "execution_count": 40,
   "metadata": {
    "collapsed": false
   },
   "outputs": [
    {
     "data": {
      "image/png": "[encoded data removed]",
      "text/plain": [
       "<matplotlib.figure.Figure at 0x12509b4e0>"
      ]
     },
     "metadata": {},
     "output_type": "display_data"
    }
   ],
   "source": [
    "figname=\"proxy_models\"\n",
    "plt.figure()\n",
    "plt.clf()\n",
    "\n",
    "plt.hist(chi_eff_flat_above_zero, bins=bins_chi_eff, color='blue', alpha=0.5, histtype='stepfilled', label=r\"aligned proxy\", normed=True) #histtype='step'\n",
    "plt.hist(chi_eff_flat_minus_one_one, bins=bins_chi_eff, color='green', alpha=0.5, histtype='stepfilled', label=r\"isotropic proxy\", normed=True) #histtype='step',\n",
    "\n",
    "plt.xlim([-1.1,1.1])\n",
    "plt.ylim([0.0, 1.1])\n",
    "plt.xlabel(r\"$\\chi_\\mathrm{eff}$\", fontsize=20)\n",
    "plt.ylabel(r\"$p(\\chi_\\mathrm{eff})$\", fontsize=20)\n",
    "plt.xticks(fontsize=15)\n",
    "plt.yticks(fontsize=15)\n",
    "plt.legend(loc='upper left', framealpha=0.5, fancybox=True, fontsize=15)\n",
    "plt.tight_layout()\n",
    "plt.savefig(this_plot_folder + figname + \".png\", dpi=400)"
   ]
  },
  {
   "cell_type": "code",
   "execution_count": 41,
   "metadata": {
    "collapsed": false,
    "scrolled": true
   },
   "outputs": [
    {
     "data": {
      "image/png": "[encoded data removed]",
      "text/plain": [
       "<matplotlib.figure.Figure at 0x130525b70>"
      ]
     },
     "metadata": {},
     "output_type": "display_data"
    }
   ],
   "source": [
    "figname=\"extreme_only_models\"\n",
    "plt.figure()\n",
    "plt.clf()\n",
    "\n",
    "plt.hist(chi_eff_aligned_extremely_low, bins=bins_chi_eff, color='blue', alpha=0.5, histtype='stepfilled', label=r\"aligned extreme low\", normed=True) #histtype='step'\n",
    "plt.hist(chi_eff_isotropic_extremely_low, bins=bins_chi_eff, color='green', alpha=0.5, histtype='stepfilled', label=r\"isotropic extreme low\", normed=True) #histtype='step',\n",
    "\n",
    "plt.hist(chi_eff_aligned_extremely_high, bins=bins_chi_eff, color='red', alpha=0.5, histtype='stepfilled', label=r\"aligned extreme high\", normed=True) #histtype='step'\n",
    "plt.hist(chi_eff_isotropic_extremely_high, bins=bins_chi_eff, color='yellow', alpha=0.5, histtype='stepfilled', label=r\"isotropic extreme high\", normed=True) #histtype='step',\n",
    "\n",
    "plt.xlim([-1.1,1.1])\n",
    "plt.ylim([0.0, 3.5])\n",
    "plt.xlabel(r\"$\\chi_\\mathrm{eff}$\", fontsize=20)\n",
    "plt.ylabel(r\"$p(\\chi_\\mathrm{eff})$\", fontsize=20)\n",
    "plt.xticks(fontsize=15)\n",
    "plt.yticks(fontsize=15)\n",
    "plt.legend(loc='upper left', framealpha=0.5, fancybox=True, fontsize=15)\n",
    "plt.tight_layout()\n",
    "plt.savefig(this_plot_folder + figname + \".png\", dpi=400)"
   ]
  },
  {
   "cell_type": "code",
   "execution_count": 42,
   "metadata": {
    "collapsed": false
   },
   "outputs": [
    {
     "data": {
      "image/png": "[encoded data removed]",
      "text/plain": [
       "<matplotlib.figure.Figure at 0x12e7e3d68>"
      ]
     },
     "metadata": {},
     "output_type": "display_data"
    }
   ],
   "source": [
    "figname=\"thermal_only_models\"\n",
    "plt.figure()\n",
    "plt.clf()\n",
    "plt.hist(chi_eff_aligned_thermal_spin, bins=bins_chi_eff, color='blue', alpha=0.5, histtype='stepfilled', label=r\"aligned thermal\", normed=True) #histtype='step'\n",
    "plt.hist(chi_eff_isotropic_thermal_spin, bins=bins_chi_eff, color='green', alpha=0.5, histtype='stepfilled', label=r\"isotropic thermal\", normed=True) #histtype='step',\n",
    "plt.xlim([-1.1,1.1])\n",
    "plt.ylim([0.0, 3.5])\n",
    "plt.xlabel(r\"$\\chi_\\mathrm{eff}$\", fontsize=20)\n",
    "plt.ylabel(r\"$p(\\chi_\\mathrm{eff})$\", fontsize=20)\n",
    "plt.xticks(fontsize=15)\n",
    "plt.yticks(fontsize=15)\n",
    "plt.legend(loc='upper left', framealpha=0.5, fancybox=True, fontsize=15)\n",
    "plt.tight_layout()\n",
    "plt.savefig(this_plot_folder + figname + \".png\", dpi=400)"
   ]
  },
  {
   "cell_type": "code",
   "execution_count": 43,
   "metadata": {
    "collapsed": false
   },
   "outputs": [
    {
     "data": {
      "image/png": "[encoded data removed]",
      "text/plain": [
       "<matplotlib.figure.Figure at 0x10e0555f8>"
      ]
     },
     "metadata": {},
     "output_type": "display_data"
    }
   ],
   "source": [
    "figname=\"uniform_only_models\"\n",
    "plt.figure()\n",
    "plt.clf()\n",
    "plt.hist(chi_eff_aligned_uniform_spin, bins=bins_chi_eff, color='blue', histtype='stepfilled', alpha=0.5, label=r\"aligned uniform\", normed=True) #histtype='step'\n",
    "plt.hist(chi_eff_isotropic_uniform_spin, bins=bins_chi_eff, color='green', histtype='stepfilled', alpha=0.5, label=r\"isotropic uniform\", normed=True) #histtype='step',\n",
    "plt.xlim([-1.1,1.1])\n",
    "plt.ylim([0.0, 3.5])\n",
    "plt.xlabel(r\"$\\chi_\\mathrm{eff}$\", fontsize=20)\n",
    "plt.ylabel(r\"$p(\\chi_\\mathrm{eff})$\", fontsize=20)\n",
    "plt.xticks(fontsize=15)\n",
    "plt.yticks(fontsize=15)\n",
    "plt.legend(loc='upper left', framealpha=0.5, fancybox=True, fontsize=15)\n",
    "plt.tight_layout()\n",
    "plt.savefig(this_plot_folder + figname + \".png\", dpi=400)"
   ]
  },
  {
   "cell_type": "code",
   "execution_count": 44,
   "metadata": {
    "collapsed": false
   },
   "outputs": [
    {
     "data": {
      "image/png": "[encoded data removed]",
      "text/plain": [
       "<matplotlib.figure.Figure at 0x126ba7a20>"
      ]
     },
     "metadata": {},
     "output_type": "display_data"
    }
   ],
   "source": [
    "figname=\"inverse_thermal_only_models\"\n",
    "plt.figure()\n",
    "plt.clf()\n",
    "plt.hist(chi_eff_aligned_inverse_thermal_spin, bins=bins_chi_eff, color='blue', histtype='stepfilled', alpha=0.5, label=r\"aligned inverse thermal\", normed=True) #histtype='step'\n",
    "plt.hist(chi_eff_isotropic_inverse_thermal_spin, bins=bins_chi_eff, color='green', histtype='stepfilled', alpha=0.5, label=r\"isotropic inverse thermal\", normed=True) #histtype='step',\n",
    "plt.xlim([-1.1,1.1])\n",
    "plt.ylim([0.0, 3.5])\n",
    "plt.xlabel(r\"$\\chi_\\mathrm{eff}$\", fontsize=20)\n",
    "plt.ylabel(r\"$p(\\chi_\\mathrm{eff})$\", fontsize=20)\n",
    "plt.xticks(fontsize=15)\n",
    "plt.yticks(fontsize=15)\n",
    "plt.legend(loc='upper left', framealpha=0.5, fancybox=True, fontsize=15)\n",
    "plt.tight_layout()\n",
    "plt.savefig(this_plot_folder + figname + \".png\", dpi=400)"
   ]
  },
  {
   "cell_type": "markdown",
   "metadata": {},
   "source": [
    "Generate approximation to the prior lalinference uses on $\\chi_\\mathrm{eff}$. It assumes spins are isotropic, with $\\cos{\\theta_1}$, $\\cos{\\theta_w}$ between -1 and 1, and the spin magnitudes $\\chi_1$ and $\\chi_2$ uniformly between 0 and 1."
   ]
  },
  {
   "cell_type": "code",
   "execution_count": 45,
   "metadata": {
    "collapsed": false
   },
   "outputs": [
    {
     "data": {
      "image/png": "[encoded data removed]",
      "text/plain": [
       "<matplotlib.figure.Figure at 0x12e7c4748>"
      ]
     },
     "metadata": {},
     "output_type": "display_data"
    }
   ],
   "source": [
    "# lalinf_chi_eff_prior = np.random.uniform(-1.0, 1.0, npts)\n",
    "lalinf_chi_eff_prior = chi_eff_isotropic_uniform_spin\n",
    "lalinf_chi_eff_prior_binned, bins = np.histogram(lalinf_chi_eff_prior, bins=bins_chi_eff, normed=False)\n",
    "lalinf_chi_eff_prior_binned = lalinf_chi_eff_prior_binned.astype(float)\n",
    "lalinf_chi_eff_prior_binned += np.ones_like(lalinf_chi_eff_prior_binned) * (1.0/nbins_chi_eff)\n",
    "lalinf_chi_eff_prior_binned /= np.sum(lalinf_chi_eff_prior_binned)\n",
    "\n",
    "figname=\"lalinf_chi_eff_prior\"\n",
    "plt.figure()\n",
    "plt.clf()\n",
    "h = plt.hist(lalinf_chi_eff_prior, bins=bins_chi_eff, histtype='stepfilled', normed=True, alpha=0.5)\n",
    "plt.xlim()\n",
    "plt.ylim()\n",
    "plt.xlabel(r\"$\\chi_\\mathrm{eff}$\", fontsize=20)\n",
    "plt.ylabel(r\"$p(\\chi_\\mathrm{eff})$\", fontsize=20)\n",
    "plt.tight_layout()\n",
    "plt.savefig(this_plot_folder + figname + \".png\", dpi=400)"
   ]
  },
  {
   "cell_type": "markdown",
   "metadata": {},
   "source": [
    "Get values for $\\chi_\\mathrm{eff}$ for the detections from the O1 BBH paper : https://arxiv.org/pdf/1606.04856v3.pdf and make approximations of the posteriors"
   ]
  },
  {
   "cell_type": "code",
   "execution_count": 46,
   "metadata": {
    "collapsed": true
   },
   "outputs": [],
   "source": [
    "def convert_90_percent_range_to_sigma(median, upper_90, lower_90):\n",
    "    \"\"\"\n",
    "    Based on Will's function in the \n",
    "    \n",
    "    Parameters\n",
    "    -----------\n",
    "    median : float\n",
    "        median\n",
    "    upper_90 : float\n",
    "        90% upper limit\n",
    "    lower_90 : float\n",
    "        90% lower limit\n",
    "        \n",
    "    Returns\n",
    "    --------\n",
    "    sigma : float\n",
    "        Standard deviation of a gaussian with same 90% range\n",
    "    \n",
    "    -- Simon Stevenson\n",
    "    \"\"\"\n",
    "    normal_distribution = scipy.stats.distributions.norm(0.0, 1.0)\n",
    "    interval_90_gaussian_5 = normal_distribution.ppf(0.05)\n",
    "    interval_90_gaussian_95 = normal_distribution.ppf(0.95)\n",
    "    interval_90_gaussian = interval_90_gaussian_95 - interval_90_gaussian_5\n",
    "    \n",
    "    this_sigma = (upper_90 - lower_90)/interval_90_gaussian\n",
    "    \n",
    "    return this_sigma"
   ]
  },
  {
   "cell_type": "code",
   "execution_count": 47,
   "metadata": {
    "collapsed": false
   },
   "outputs": [
    {
     "name": "stdout",
     "output_type": "stream",
     "text": [
      "GW150914 sigma =  0.0851139564676\n",
      "GW151226 sigma =  0.0911935247868\n",
      "LVT151012 sigma =  0.151989207978\n"
     ]
    }
   ],
   "source": [
    "#-- these are taken from the paper\n",
    "GW150914_chi_eff_median  = -0.06\n",
    "GW151226_chi_eff_median  = 0.21\n",
    "LVT151012_chi_eff_median = 0.00\n",
    "\n",
    "GW150914_chi_eff_upper_90 = GW150914_chi_eff_median + 0.14\n",
    "GW150914_chi_eff_lower_90 = GW150914_chi_eff_median - 0.14 \n",
    "\n",
    "GW151226_chi_eff_upper_90 = GW151226_chi_eff_median + 0.2\n",
    "GW151226_chi_eff_lower_90 = GW151226_chi_eff_median - 0.1\n",
    "\n",
    "LVT151012_chi_eff_upper_90 = LVT151012_chi_eff_median + 0.3\n",
    "LVT151012_chi_eff_lower_90 = LVT151012_chi_eff_median - 0.2\n",
    "\n",
    "#-- These are tuned (by eye) to pass the test below\n",
    "# GW150914_chi_eff_sigma  = 0.1\n",
    "# GW151226_chi_eff_sigma = 0.15\n",
    "# LVT151012_chi_eff_sigma = 0.15\n",
    "\n",
    "#-- These are calculated to have the same 90 percent range as the LIGO measurements\n",
    "GW150914_chi_eff_sigma = convert_90_percent_range_to_sigma(GW150914_chi_eff_median, GW150914_chi_eff_upper_90, GW150914_chi_eff_lower_90)\n",
    "GW151226_chi_eff_sigma = convert_90_percent_range_to_sigma(GW151226_chi_eff_median, GW151226_chi_eff_upper_90, GW151226_chi_eff_lower_90)\n",
    "LVT151012_chi_eff_sigma = convert_90_percent_range_to_sigma(LVT151012_chi_eff_median, LVT151012_chi_eff_upper_90, LVT151012_chi_eff_lower_90)\n",
    "\n",
    "print(\"GW150914 sigma = \", GW150914_chi_eff_sigma)\n",
    "print(\"GW151226 sigma = \", GW151226_chi_eff_sigma)\n",
    "print(\"LVT151012 sigma = \", LVT151012_chi_eff_sigma)\n",
    "\n",
    "GW150914_chi_eff_post  = scipy.stats.distributions.norm(loc=GW150914_chi_eff_median,  scale=GW150914_chi_eff_sigma).rvs(size=int(1E5)) \n",
    "GW151226_chi_eff_post  = scipy.stats.distributions.norm(loc=GW151226_chi_eff_median,  scale=GW151226_chi_eff_sigma).rvs(size=int(1E5)) \n",
    "LVT151012_chi_eff_post = scipy.stats.distributions.norm(loc=LVT151012_chi_eff_median, scale=LVT151012_chi_eff_sigma).rvs(size=int(1E5)) "
   ]
  },
  {
   "cell_type": "code",
   "execution_count": 48,
   "metadata": {
    "collapsed": false
   },
   "outputs": [
    {
     "name": "stdout",
     "output_type": "stream",
     "text": [
      "Check these roughly agree with values from O1 BBH paper:\n",
      "\n",
      "GW150914 -0.2 0.08000000000000002\n",
      "GW151226 0.10999999999999999 0.41000000000000003\n",
      "LVT151012 -0.2 0.3\n",
      "\n",
      "GW150914 -0.20088070161 0.0804799614054\n",
      "GW151226 0.0594547627271 0.360199812432\n",
      "LVT151012 -0.249946380258 0.249600150416\n"
     ]
    }
   ],
   "source": [
    "print(\"Check these roughly agree with values from O1 BBH paper:\")\n",
    "\n",
    "print(\"\\nGW150914\", GW150914_chi_eff_lower_90, GW150914_chi_eff_upper_90)\n",
    "print(\"GW151226\", GW151226_chi_eff_lower_90, GW151226_chi_eff_upper_90)\n",
    "print(\"LVT151012\", LVT151012_chi_eff_lower_90, LVT151012_chi_eff_upper_90)\n",
    "\n",
    "print(\"\\nGW150914\", np.percentile(GW150914_chi_eff_post, 5), np.percentile(GW150914_chi_eff_post, 95))\n",
    "print(\"GW151226\", np.percentile(GW151226_chi_eff_post, 5), np.percentile(GW151226_chi_eff_post, 95))\n",
    "print(\"LVT151012\", np.percentile(LVT151012_chi_eff_post, 5), np.percentile(LVT151012_chi_eff_post, 95))"
   ]
  },
  {
   "cell_type": "code",
   "execution_count": 49,
   "metadata": {
    "collapsed": true
   },
   "outputs": [],
   "source": [
    "# #- eyeball\n",
    "# GW150914 -0.224935234216 0.103245296614\n",
    "# GW151226 -0.0376251244698 0.455958889317\n",
    "# LVT151012 -0.247978287589 0.246144927082\n",
    "\n",
    "# #--will\n",
    "# GW150914 -0.200156477103 0.0792310604763\n",
    "# GW151226 0.060402555241 0.359752653163\n",
    "# LVT151012 -0.250488245828 0.249418068444"
   ]
  },
  {
   "cell_type": "code",
   "execution_count": 50,
   "metadata": {
    "collapsed": false
   },
   "outputs": [
    {
     "data": {
      "image/png": "[encoded data removed]",
      "text/plain": [
       "<matplotlib.figure.Figure at 0x1308d1320>"
      ]
     },
     "metadata": {},
     "output_type": "display_data"
    }
   ],
   "source": [
    "nbins = 40\n",
    "bins = np.linspace(-1.0, 1.0, nbins)\n",
    "\n",
    "figname=\"detections_chi_eff\"\n",
    "plt.figure()\n",
    "plt.clf()\n",
    "plt.hist(GW150914_chi_eff_post, bins=bins_chi_eff, color='green', alpha=0.5, histtype='stepfilled', label=r\"GW150914\", normed=True) #histtype='step'\n",
    "plt.hist(GW151226_chi_eff_post, bins=bins_chi_eff, color='blue', alpha=0.5, histtype='stepfilled', label=r\"GW151226\", normed=True) #histtype='step'\n",
    "plt.hist(LVT151012_chi_eff_post, bins=bins_chi_eff, color='red', alpha=0.5, histtype='stepfilled', label=r\"LVT151012\", normed=True)\n",
    "plt.xlim([-1.1,1.1])\n",
    "# plt.ylim([0.0, 3.0])\n",
    "plt.xlabel(r\"$\\chi_\\mathrm{eff}$\", fontsize=20)\n",
    "plt.ylabel(r\"$p(\\chi_\\mathrm{eff})$\", fontsize=20)\n",
    "plt.xticks(fontsize=15)\n",
    "plt.yticks(fontsize=15)\n",
    "plt.legend(loc='upper left', framealpha=0.5, fancybox=True)\n",
    "plt.tight_layout()\n",
    "plt.savefig(this_plot_folder + figname + \".png\", dpi=400)"
   ]
  },
  {
   "cell_type": "markdown",
   "metadata": {},
   "source": [
    "Do Christopher's suggested calculation of p(chi_eff > 0) v p(any chi_eff)"
   ]
  },
  {
   "cell_type": "code",
   "execution_count": 51,
   "metadata": {
    "collapsed": false
   },
   "outputs": [
    {
     "name": "stdout",
     "output_type": "stream",
     "text": [
      "\n",
      "p(chi_eff > 0)\n",
      "GW150914: 0.23959\n",
      "GW151226: 0.98887\n",
      "LVT151012: 0.50108\n"
     ]
    }
   ],
   "source": [
    "GW150914_prob_chi_eff_greater_zero = np.sum(GW150914_chi_eff_post > 0.0)/len(GW150914_chi_eff_post)\n",
    "GW151226_prob_chi_eff_greater_zero = np.sum(GW151226_chi_eff_post > 0.0)/len(GW151226_chi_eff_post)\n",
    "LVT151012_prob_chi_eff_greater_zero = np.sum(LVT151012_chi_eff_post > 0.0)/len(LVT151012_chi_eff_post)\n",
    "\n",
    "print(\"\\np(chi_eff > 0)\")\n",
    "print(\"GW150914:\", GW150914_prob_chi_eff_greater_zero)\n",
    "print(\"GW151226:\", GW151226_prob_chi_eff_greater_zero)\n",
    "print(\"LVT151012:\", LVT151012_prob_chi_eff_greater_zero)"
   ]
  },
  {
   "cell_type": "code",
   "execution_count": 52,
   "metadata": {
    "collapsed": false
   },
   "outputs": [
    {
     "name": "stdout",
     "output_type": "stream",
     "text": [
      "Number of events with chi_eff > 0 = 1.72954\n",
      "Expected number of events with chi_eff > 0 if all > 0 = 3\n",
      "Expected number of events with chi_eff > 0 if symmetric about 0 = 1.5\n"
     ]
    }
   ],
   "source": [
    "print(\"Number of events with chi_eff > 0 =\", GW150914_prob_chi_eff_greater_zero + GW151226_prob_chi_eff_greater_zero + LVT151012_prob_chi_eff_greater_zero)\n",
    "print(\"Expected number of events with chi_eff > 0 if all > 0 = 3\")\n",
    "print(\"Expected number of events with chi_eff > 0 if symmetric about 0 = 1.5\")"
   ]
  },
  {
   "cell_type": "code",
   "execution_count": 53,
   "metadata": {
    "collapsed": false
   },
   "outputs": [
    {
     "name": "stdout",
     "output_type": "stream",
     "text": [
      "prob of all 3 with chi_eff > 0 = 0.118717558882\n",
      "evidence ratio of aligned model to isotropic model is therefore  0.118717558882\n",
      "this is -1.24743330248 sigma\n"
     ]
    }
   ],
   "source": [
    "print(\"prob of all 3 with chi_eff > 0 =\", GW150914_prob_chi_eff_greater_zero * GW151226_prob_chi_eff_greater_zero * LVT151012_prob_chi_eff_greater_zero)\n",
    "\n",
    "evidence_chi_eff_positive_chi_eff_any = GW150914_prob_chi_eff_greater_zero * GW151226_prob_chi_eff_greater_zero * LVT151012_prob_chi_eff_greater_zero\n",
    "\n",
    "C_evidence_chi_eff_positive_chi_eff_any = evidence_chi_eff_positive_chi_eff_any / (1.0 + evidence_chi_eff_positive_chi_eff_any)\n",
    "sigma_chi_eff_positive_chi_eff_any = scipy.stats.distributions.norm(0.0, 1.0).ppf(C_evidence_chi_eff_positive_chi_eff_any)\n",
    "\n",
    "print(\"evidence ratio of aligned model to isotropic model is therefore \", evidence_chi_eff_positive_chi_eff_any)\n",
    "print(\"this is\", sigma_chi_eff_positive_chi_eff_any ,\"sigma\")"
   ]
  },
  {
   "cell_type": "code",
   "execution_count": 54,
   "metadata": {
    "collapsed": true
   },
   "outputs": [],
   "source": [
    "GW150914_chi_eff_post_binned, bins = np.histogram(GW150914_chi_eff_post, bins=bins_chi_eff, normed=False)\n",
    "GW151226_chi_eff_post_binned, bins = np.histogram(GW151226_chi_eff_post, bins=bins_chi_eff, normed=False)\n",
    "LVT151012_chi_eff_post_binned, bins = np.histogram(LVT151012_chi_eff_post, bins=bins_chi_eff, normed=False)"
   ]
  },
  {
   "cell_type": "code",
   "execution_count": 55,
   "metadata": {
    "collapsed": false
   },
   "outputs": [],
   "source": [
    "# print(np.sum(GW150914_chi_eff_post_binned))\n",
    "# print(len(GW150914_chi_eff_post_binned))\n",
    "# print(GW150914_chi_eff_post_binned)"
   ]
  },
  {
   "cell_type": "code",
   "execution_count": 56,
   "metadata": {
    "collapsed": false
   },
   "outputs": [],
   "source": [
    "nDetections = 3 #10 #3\n",
    "allEventsBinned = np.zeros((nDetections, len(GW150914_chi_eff_post_binned)))"
   ]
  },
  {
   "cell_type": "code",
   "execution_count": 57,
   "metadata": {
    "collapsed": true
   },
   "outputs": [],
   "source": [
    "allEventsBinned[0] = GW150914_chi_eff_post_binned\n",
    "allEventsBinned[1] = GW151226_chi_eff_post_binned\n",
    "allEventsBinned[2] = LVT151012_chi_eff_post_binned\n",
    "\n",
    "#-- Add a few more events for fun\n",
    "# allEventsBinned[3] = GW150914_chi_eff_post_binned\n",
    "# allEventsBinned[4] = GW150914_chi_eff_post_binned\n",
    "# allEventsBinned[5] = GW150914_chi_eff_post_binned\n",
    "# allEventsBinned[6] = GW150914_chi_eff_post_binned\n",
    "# allEventsBinned[7] = GW150914_chi_eff_post_binned\n",
    "# allEventsBinned[8] = GW150914_chi_eff_post_binned\n",
    "# allEventsBinned[9] = GW150914_chi_eff_post_binned"
   ]
  },
  {
   "cell_type": "code",
   "execution_count": 58,
   "metadata": {
    "collapsed": false
   },
   "outputs": [],
   "source": [
    "# print(len(allEventsBinned))\n",
    "# print(allEventsBinned)"
   ]
  },
  {
   "cell_type": "markdown",
   "metadata": {},
   "source": [
    "Fit a mixture of these models using my hierarchical inference technique"
   ]
  },
  {
   "cell_type": "code",
   "execution_count": 59,
   "metadata": {
    "collapsed": false
   },
   "outputs": [],
   "source": [
    "def generateModel(lambdas):\n",
    "    \"\"\"\n",
    "    Generate mixture model\n",
    "    \n",
    "    Parameters\n",
    "    -----------\n",
    "    \n",
    "    Returns\n",
    "    --------\n",
    "    \n",
    "    -- Simon Stevenson\n",
    "    \"\"\"\n",
    "    \n",
    "    this_nLambdas = len(lambdas)\n",
    "    \n",
    "    nPointsTotal = len(chi_eff_aligned_fixed_spin)\n",
    "    \n",
    "    #nPoints1 = int(nPointsTotal * lambdas[0])\n",
    "    #nPoints2 = int(nPointsTotal * lambdas[1])\n",
    "    #nPoints3 = int(nPointsTotal * lambdas[1])\n",
    "    #nPoints4 = int(nPointsTotal * lambdas[1])\n",
    "    \n",
    "    #-- Choose fraction of each model\n",
    "    this_chi_eff_aligned_fixed_spin     = chi_eff_aligned_fixed_spin[0:int(nPointsTotal * lambdas[0])]\n",
    "    this_chi_eff_aligned_uniform_spin   = chi_eff_aligned_uniform_spin[0:int(nPointsTotal * lambdas[1])]\n",
    "    this_chi_eff_isotropic_fixed_spin   = chi_eff_isotropic_fixed_spin[0:int(nPointsTotal * lambdas[2])]\n",
    "    this_chi_eff_isotropic_uniform_spin = chi_eff_isotropic_uniform_spin[0:int(nPointsTotal * lambdas[3])]\n",
    "    \n",
    "    return np.concatenate([this_chi_eff_aligned_fixed_spin, this_chi_eff_aligned_uniform_spin, this_chi_eff_isotropic_fixed_spin, this_chi_eff_isotropic_uniform_spin])"
   ]
  },
  {
   "cell_type": "code",
   "execution_count": 60,
   "metadata": {
    "collapsed": true
   },
   "outputs": [],
   "source": [
    "def generateBinnedModel(lambdas, regularise=True):\n",
    "    \"\"\"\n",
    "    Generate a binned model\n",
    "    \n",
    "    Parameters\n",
    "    -----------\n",
    "    lambdas : float array\n",
    "        Fractions of each model to use. Add up to 1\n",
    "    regularise : bool\n",
    "        Whether to ensure no bin is empty by spreading 1 count over all bins\n",
    "        \n",
    "    Returns\n",
    "    --------\n",
    "    modelBinnedDensity : float array\n",
    "        Binned model\n",
    "    \n",
    "    -- Simon Stevenson\n",
    "    \"\"\"\n",
    "    model = generateModel(lambdas)\n",
    "    \n",
    "    #print(model)\n",
    "        \n",
    "    if(regularise):\n",
    "        \n",
    "        n, bins = np.histogram(model, bins=bins_chi_eff, normed=False)\n",
    "        \n",
    "        n = n.astype(float)\n",
    "        n += np.ones_like(n) * (1.0/nbins_chi_eff)\n",
    "        n /= np.sum(n)\n",
    "    else:\n",
    "        n, bins = np.histogram(model, bins=bins_chi_eff, normed=True)\n",
    "    \n",
    "    return n"
   ]
  },
  {
   "cell_type": "code",
   "execution_count": 61,
   "metadata": {
    "collapsed": false
   },
   "outputs": [],
   "source": [
    "def generateBinnedModel2(lambdas, spin_magnitude_distribution_assumption, regularise=True):\n",
    "    \"\"\"\n",
    "    Generate a mixture model where spin magnitudes are drawn uniformly and bin it.\n",
    "    \n",
    "    Parameters\n",
    "    -----------\n",
    "    \n",
    "    Returns\n",
    "    --------\n",
    "    \n",
    "    -- Simon Stevenson \n",
    "    \"\"\"\n",
    "    \n",
    "    this_nLambdas = len(lambdas)\n",
    "    \n",
    "    assert this_nLambdas == 2\n",
    "    \n",
    "    nPointsTotal = len(chi_eff_aligned_fixed_spin)\n",
    "    \n",
    "    #print(spin_magnitude_distribution_assumption)\n",
    "    #this_chi_eff_mixture_model = []\n",
    "    \n",
    "    #-- Choose fraction of each model\n",
    "    if(spin_magnitude_distribution_assumption == UNIFORM_SPIN_MAGNITUDE):\n",
    "        #print(\"uniform\")\n",
    "        this_chi_eff_aligned_uniform_spin   = chi_eff_aligned_uniform_spin[0:int(nPointsTotal * lambdas[0])]\n",
    "        this_chi_eff_isotropic_uniform_spin = chi_eff_isotropic_uniform_spin[0:int(nPointsTotal * lambdas[1])]\n",
    "    \n",
    "        this_chi_eff_mixture_model = np.concatenate([this_chi_eff_aligned_uniform_spin, this_chi_eff_isotropic_uniform_spin])\n",
    "    elif(spin_magnitude_distribution_assumption == INVERSE_THERMAL_SPIN_MAGNITUDE):\n",
    "        #print(\"inverse thermal\")\n",
    "        #-- Use inverse thermal spin magnitude distribution\n",
    "        this_chi_eff_aligned_inverse_thermal_spin   = chi_eff_aligned_inverse_thermal_spin[0:int(nPointsTotal * lambdas[0])]\n",
    "        this_chi_eff_isotropic_inverse_thermal_spin = chi_eff_isotropic_inverse_thermal_spin[0:int(nPointsTotal * lambdas[1])]\n",
    "    \n",
    "        this_chi_eff_mixture_model = np.concatenate([this_chi_eff_aligned_inverse_thermal_spin, this_chi_eff_isotropic_inverse_thermal_spin])\n",
    "    elif(spin_magnitude_distribution_assumption == THERMAL_SPIN_MAGNITUDE):\n",
    "        #print(\"thermal\")\n",
    "        #-- Use thermal spin magnitude distribution\n",
    "        this_chi_eff_aligned_thermal_spin   = chi_eff_aligned_thermal_spin[0:int(nPointsTotal * lambdas[0])]\n",
    "        this_chi_eff_isotropic_thermal_spin = chi_eff_isotropic_thermal_spin[0:int(nPointsTotal * lambdas[1])]\n",
    "    \n",
    "        this_chi_eff_mixture_model = np.concatenate([this_chi_eff_aligned_thermal_spin, this_chi_eff_isotropic_thermal_spin])\n",
    "    elif(spin_magnitude_distribution_assumption == ZERO_SPIN_MAGNITUDE):\n",
    "        #print(\"zero\")\n",
    "        #-- use zero spin magnitude for all BHs\n",
    "        #this_chi_eff_aligned_zero_spin = chi_eff_zero[0:int(nPointsTotal * lambdas[0])]\n",
    "        this_chi_eff_mixture_model = chi_eff_zero[0:int(nPointsTotal)]\n",
    "    elif(spin_magnitude_distribution_assumption == EXTREMELY_LOW_SPIN_MAGNITUDE):\n",
    "        this_chi_eff_aligned   = chi_eff_aligned_extremely_low[0:int(nPointsTotal * lambdas[0])]\n",
    "        this_chi_eff_isotropic = chi_eff_isotropic_extremely_low[0:int(nPointsTotal * lambdas[1])]\n",
    "    \n",
    "        this_chi_eff_mixture_model = np.concatenate([this_chi_eff_aligned, this_chi_eff_isotropic])\n",
    "    \n",
    "    elif(spin_magnitude_distribution_assumption == EXTREMELY_HIGH_SPIN_MAGNITUDE):\n",
    "        this_chi_eff_aligned   = chi_eff_aligned_extremely_high[0:int(nPointsTotal * lambdas[0])]\n",
    "        this_chi_eff_isotropic = chi_eff_isotropic_extremely_high[0:int(nPointsTotal * lambdas[1])]\n",
    "    \n",
    "        this_chi_eff_mixture_model = np.concatenate([this_chi_eff_aligned, this_chi_eff_isotropic])\n",
    "        \n",
    "    elif(spin_magnitude_distribution_assumption == PROXY_ALIGNED):\n",
    "        this_chi_eff_mixture_model = chi_eff_flat_above_zero\n",
    "        \n",
    "    elif(spin_magnitude_distribution_assumption == PROXY_ISOTROPIC):\n",
    "        this_chi_eff_mixture_model = chi_eff_flat_minus_one_one\n",
    "        \n",
    "    else:\n",
    "        print(\"error!\")\n",
    "    \n",
    "    if(regularise):\n",
    "        \n",
    "        n, bins = np.histogram(this_chi_eff_mixture_model, bins=bins_chi_eff, normed=False)\n",
    "        \n",
    "        n = n.astype(float)\n",
    "        n += np.ones_like(n) * (1.0/nbins_chi_eff)\n",
    "        n /= np.sum(n)\n",
    "    else:\n",
    "        n, bins = np.histogram(this_chi_eff_mixture_model, bins=bins_chi_eff, normed=True)\n",
    "    \n",
    "    return n"
   ]
  },
  {
   "cell_type": "code",
   "execution_count": 62,
   "metadata": {
    "collapsed": false
   },
   "outputs": [],
   "source": [
    "def lnprior(theta):\n",
    "    \"\"\"\n",
    "    Parameters\n",
    "    ----------\n",
    "    theta : array\n",
    "    Array containing model parameters (in this case the three lambda values)\n",
    "\n",
    "    Returns\n",
    "    --------\n",
    "    lnprior : float\n",
    "    log of the prior probabilitiy for these lambda values\n",
    "\n",
    "    -- Simon Stevenson\n",
    "    \"\"\"\n",
    "#     lambda1, lambda2, lambda3 = theta\n",
    "#     lambda4 = 1.0 - (lambda1 + lambda2 + lambda3)\n",
    "#     lambda1, lambda2, lambda3 = theta\n",
    "#     lambda4 = 1.0 - (lambda1 + lambda2 + lambda3)\n",
    "#     lambdas = np.array([lambda1, lambda2, lambda3, lambda4])\n",
    "    \n",
    "    #-- Pull out the lambdas\n",
    "    if(np.shape(theta) == ()):\n",
    "        theta = np.array([theta])\n",
    "        this_nLambdas = 1\n",
    "    else:\n",
    "        this_nLambdas = len(theta) + 1\n",
    "    \n",
    "    #-- Will always be one less than the number of models, can reconstruct nth lambda as 1 - sum of others\n",
    "    lambda_n = np.array([1.0 - np.sum(theta)])\n",
    "    \n",
    "    #print(theta.shape)\n",
    "    #print(lambda_n.shape)\n",
    "\n",
    "    lambdas = np.concatenate([theta, lambda_n])\n",
    "    \n",
    "    lambdas_ok = lambdas >= 0.0\n",
    "    lambdas_ok = np.logical_and(lambdas_ok, lambdas <= 1.0)\n",
    "    lambdas_ok = np.logical_and(lambdas_ok, np.sum(lambdas) <= 1.0)\n",
    "    \n",
    "#     if(lambda1 >= 0.0 and lambda2 >= 0.0 and lambda3 >= 0.0 and (lambda1 + lambda2 + lambda3 <= 1.0)):\n",
    "    if(lambdas_ok.all()):\n",
    "        #-- Flat probability -- in this case should be guaranteed that lambda4 = 1.0 - sum(lambda1-3)\n",
    "        return 0\n",
    "        #-- first term is the lambdas, second term is the concentration parameters\n",
    "        #return scipy.stats.dirichlet.logpdf(np.array([lambda1, lambda2, lambda3, lambda4]), np.ones(nLambdasTest))\n",
    "    else:\n",
    "        return -np.inf"
   ]
  },
  {
   "cell_type": "code",
   "execution_count": 63,
   "metadata": {
    "collapsed": true
   },
   "outputs": [],
   "source": [
    "def PDFOneEventIlya(data_binned, model_binned, is_logged=False):\n",
    "    \"\"\"\n",
    "    Calculate pdf according to Mandel 2010\n",
    "    \n",
    "    Parameters\n",
    "    ------------\n",
    "    data_binned : array\n",
    "        Array containing binned observation counts\n",
    "    model_binned : array\n",
    "        Array containing binned model density\n",
    "    \n",
    "    Returns\n",
    "    --------\n",
    "    pdf : float\n",
    "        probability p(\\mathrm{event} | \\vec{\\lambda})\n",
    "    \n",
    "    -- Simon Stevenson\n",
    "    \"\"\"\n",
    "    nsamples = np.sum(data_binned)\n",
    "    \n",
    "    d_i = data_binned\n",
    "    m_i = model_binned\n",
    "    p_i = lalinf_chi_eff_prior_binned\n",
    "\n",
    "    d_i_flat = d_i\n",
    "    m_i_flat = m_i\n",
    "    p_i_flat = p_i\n",
    "    \n",
    "    #d_i_flat = d_i.reshape(1, d_i.shape[0] * d_i.shape[1])\n",
    "    #m_i_flat = m_i.reshape(1, m_i.shape[0] * m_i.shape[1])\n",
    "    #p_i_flat = p_i.reshape(1, p_i.shape[0] * p_i.shape[1])\n",
    "    \n",
    "    if(is_logged):\n",
    "        \n",
    "        first_term = np.sum(d_i_flat * m_i_flat / p_i_flat)\n",
    "        \n",
    "        log_likelihood = np.log(first_term) - np.log(nsamples) \n",
    "        \n",
    "        if(log_likelihood == -np.inf or log_likelihood != log_likelihood):\n",
    "            print(\"Error calculating log likelihood for a single event\", log_likelihood)\n",
    "            \n",
    "        return log_likelihood\n",
    "    \n",
    "    else:\n",
    "        likelihood = (1.0/nsamples) * np.sum(d_i_flat * m_i_flat / p_i_flat)\n",
    "        \n",
    "        if(likelihood == 0 or likelihood != likelihood):\n",
    "            print(\"Error calculating likelihood for a single event\", likelihood)\n",
    "        \n",
    "        return likelihood"
   ]
  },
  {
   "cell_type": "code",
   "execution_count": 64,
   "metadata": {
    "collapsed": false
   },
   "outputs": [],
   "source": [
    "def lnlike(theta, data, spin_magnitude_distribution_assumption):\n",
    "    \"\"\"\n",
    "    Parameters\n",
    "    ----------\n",
    "    theta : array\n",
    "    Array containing model parameters (in this case the three lambda values)\n",
    "    data : array\n",
    "    Array containing binned individual event pdfs\n",
    "    \n",
    "    Returns\n",
    "    --------\n",
    "    lnposterior : float\n",
    "    log of the posterior for these lambda values\n",
    "    \n",
    "    -- Simon Stevenson\n",
    "    \"\"\"\n",
    "    \n",
    "    #-- Pull out the lambdas\n",
    "    if(np.shape(theta) == ()):\n",
    "        theta = np.array([theta])\n",
    "        this_nLambdas = 1\n",
    "    else:\n",
    "        this_nLambdas = len(theta) + 1\n",
    "    \n",
    "    #-- Will always be one less than the number of models, can reconstruct nth lambda as 1 - sum of others\n",
    "    lambda_n = np.array([1.0 - np.sum(theta)])\n",
    "    \n",
    "#     lambda1, lambda2, lambda3 = theta\n",
    "    \n",
    "#     lambda4 = 1.0 - (lambda1 + lambda2 + lambda3)\n",
    "#     lambdas = np.array([lambda1, lambda2, lambda3, lambda4])\n",
    "    lambdas = np.concatenate([theta, lambda_n])\n",
    "    \n",
    "    nIndividualEvents = len(data)\n",
    "    \n",
    "    #-- Calculate model at this position in parameter space\n",
    "    #modelBinnedDensity = generateBinnedModel(lambdas)\n",
    "    #modelBinnedDensity = generateBinnedModelOnlyUniform(lambdas)\n",
    "    modelBinnedDensity = generateBinnedModel2(lambdas, spin_magnitude_distribution_assumption)\n",
    "    \n",
    "    #is_logged = False\n",
    "    is_logged = True\n",
    "    \n",
    "    logProbabilityLambdaGivenDataIlyaArray = np.zeros(nIndividualEvents)\n",
    "    probabilityLambdaGivenDataIlyaArray = np.zeros(nIndividualEvents)\n",
    "    \n",
    "    for i in range(nIndividualEvents):\n",
    "\n",
    "        #-- compare each event to the model\n",
    "        if(is_logged):\n",
    "            logProbabilityLambdaGivenDataIlyaArray[i] = PDFOneEventIlya(data[i], modelBinnedDensity, is_logged) #-- here data[i] is suppossed to be samplesAllEventsBinned[i]\n",
    "        else:\n",
    "            probabilityLambdaGivenDataIlyaArray[i] = PDFOneEventIlya(data[i], modelBinnedDensity) #-- here data[i] is suppossed to be samplesAllEventsBinned[i]        \n",
    "            logProbabilityLambdaGivenDataIlyaArray[i] = np.log(probabilityLambdaGivenDataIlyaArray[i])\n",
    "\n",
    "    #-- remember we want to return the log likelihood\n",
    "    logLikelihoodPoint = np.sum(logProbabilityLambdaGivenDataIlyaArray)\n",
    "    \n",
    "    return logLikelihoodPoint"
   ]
  },
  {
   "cell_type": "code",
   "execution_count": 65,
   "metadata": {
    "collapsed": true
   },
   "outputs": [],
   "source": [
    "def lnprob(theta, data, spin_magnitude_distribution_assumption):\n",
    "    \"\"\"\n",
    "    Parameters\n",
    "    ----------\n",
    "    theta : array\n",
    "    Array containing model parameters (in this case the three lambda values)\n",
    "    data : array\n",
    "    Array containing binned individual event pdfs\n",
    "    \n",
    "    Returns\n",
    "    --------\n",
    "    lnposterior : float\n",
    "    log of the posterior for these lambda values\n",
    "    \n",
    "    -- Simon Stevenson\n",
    "    \"\"\"\n",
    "    lp = lnprior(theta)\n",
    "    if not np.isfinite(lp):\n",
    "#         print(\"Rejected point\", theta) #-- if a lot are rejected then maybe you need to be smarter about sampling -- see stan\n",
    "        return -np.inf\n",
    "    return lp + lnlike(theta, data, spin_magnitude_distribution_assumption)"
   ]
  },
  {
   "cell_type": "code",
   "execution_count": 66,
   "metadata": {
    "collapsed": true
   },
   "outputs": [],
   "source": [
    "def drawLambdasDirichlet(nLambdas=4, nDraws=1000):\n",
    "    \"\"\"\n",
    "    Draw all 4 lambdas at once from a dirichlet distribution. Is the same as drawLambdas.\n",
    "    However it is 400 times faster :)\n",
    "    \n",
    "    Parameters\n",
    "    -----------\n",
    "    nLambdas: int\n",
    "        Number of lambdas to draw\n",
    "    nDraws: int\n",
    "        Number of time to draw nLambdas lambdas uniformly\n",
    "        \n",
    "    Returns\n",
    "    --------\n",
    "    lambdas : array\n",
    "        Array of shape (nDraws, nLambdas)\n",
    "        \n",
    "    -- Simon Stevenson\n",
    "    \"\"\"\n",
    "    lambdas = scipy.stats.dirichlet.rvs(np.ones(nLambdas), size=nDraws)\n",
    "    \n",
    "    return lambdas"
   ]
  },
  {
   "cell_type": "markdown",
   "metadata": {},
   "source": [
    "Check likelihood/posterior function"
   ]
  },
  {
   "cell_type": "code",
   "execution_count": 67,
   "metadata": {
    "collapsed": false
   },
   "outputs": [
    {
     "name": "stdout",
     "output_type": "stream",
     "text": [
      "-11.2968180636\n",
      "-0.363458878161\n",
      "-0.923598428353\n"
     ]
    }
   ],
   "source": [
    "print(lnprob(np.array([1.0]), allEventsBinned, THERMAL_SPIN_MAGNITUDE)) #-- only aligned\n",
    "print(lnprob(np.array([0.0]), allEventsBinned, THERMAL_SPIN_MAGNITUDE)) #-- only isotropic\n",
    "print(lnprob(np.array([0.0]), allEventsBinned, ZERO_SPIN_MAGNITUDE)) #-- only isotropic"
   ]
  },
  {
   "cell_type": "markdown",
   "metadata": {},
   "source": [
    "Estimate fraction of aligned/isotropic models"
   ]
  },
  {
   "cell_type": "code",
   "execution_count": 68,
   "metadata": {
    "collapsed": false
   },
   "outputs": [],
   "source": [
    "nTests = 1000\n",
    "fractionIsotropicArray = np.linspace(0.0, 1.0, nTests)\n",
    "fractionAlignedArray = 1.0 - fractionIsotropicArray\n",
    "# print(fractionIsotropicArray)"
   ]
  },
  {
   "cell_type": "code",
   "execution_count": 69,
   "metadata": {
    "collapsed": true
   },
   "outputs": [],
   "source": [
    "lnPrior                   = np.zeros(nTests) \n",
    "lnPosteriorThermal        = np.zeros(nTests)\n",
    "lnPosteriorUniform        = np.zeros(nTests)\n",
    "lnPosteriorInverseThermal = np.zeros(nTests)"
   ]
  },
  {
   "cell_type": "code",
   "execution_count": 70,
   "metadata": {
    "collapsed": false
   },
   "outputs": [],
   "source": [
    "for i in range(nTests):\n",
    "    lnPrior[i]                   = lnprior(np.array([fractionAlignedArray[i]]))\n",
    "    lnPosteriorThermal[i]        = lnprob(np.array([fractionAlignedArray[i]]), allEventsBinned, THERMAL_SPIN_MAGNITUDE)\n",
    "    lnPosteriorUniform[i]        = lnprob(np.array([fractionAlignedArray[i]]), allEventsBinned, UNIFORM_SPIN_MAGNITUDE)\n",
    "    lnPosteriorInverseThermal[i] = lnprob(np.array([fractionAlignedArray[i]]), allEventsBinned, INVERSE_THERMAL_SPIN_MAGNITUDE)"
   ]
  },
  {
   "cell_type": "code",
   "execution_count": 71,
   "metadata": {
    "collapsed": false
   },
   "outputs": [
    {
     "name": "stdout",
     "output_type": "stream",
     "text": [
      "Evidence prior =  1.001001001\n",
      "Evidence thermal =  0.193129061732\n",
      "Evidence uniform =  0.388796480171\n",
      "Evidence inverse thermal =  0.84324834263\n",
      "Check 1.0  == 1\n",
      "Check 1.0  == 1\n",
      "Check 1.0  == 1\n"
     ]
    }
   ],
   "source": [
    "prior                   = np.exp(lnPrior)\n",
    "posteriorThermal        = np.exp(lnPosteriorThermal)\n",
    "posteriorUniform        = np.exp(lnPosteriorUniform)\n",
    "posteriorInverseThermal = np.exp(lnPosteriorInverseThermal)\n",
    "\n",
    "dFractionIsotropic = fractionIsotropicArray[1] - fractionIsotropicArray[0]\n",
    "\n",
    "cumulativePrior              = prior*dFractionIsotropic\n",
    "cumulativePostThermal        = posteriorThermal*dFractionIsotropic\n",
    "cumulativePostUniform        = posteriorUniform*dFractionIsotropic\n",
    "cumulativePostInverseThermal = posteriorInverseThermal*dFractionIsotropic\n",
    "\n",
    "priorSum                   = np.sum(cumulativePrior)\n",
    "posteriorSumThermal        = np.sum(cumulativePostThermal)\n",
    "posteriorSumUniform        = np.sum(cumulativePostUniform)\n",
    "posteriorSumInverseThermal = np.sum(cumulativePostInverseThermal)\n",
    "\n",
    "print(\"Evidence prior = \", priorSum)\n",
    "print(\"Evidence thermal = \", posteriorSumThermal)\n",
    "print(\"Evidence uniform = \", posteriorSumUniform)\n",
    "print(\"Evidence inverse thermal = \", posteriorSumInverseThermal)\n",
    "\n",
    "#-- Renormalise\n",
    "priorNormed                   = prior/priorSum\n",
    "posteriorThermalNormed        = posteriorThermal/posteriorSumThermal\n",
    "posteriorUniformNormed        = posteriorUniform/posteriorSumUniform\n",
    "posteriorInverseThermalNormed = posteriorInverseThermal/posteriorSumInverseThermal\n",
    "\n",
    "#-- recalculate cumulative posterior\n",
    "cumulativePrior              = priorNormed*dFractionIsotropic\n",
    "cumulativePostThermal        = posteriorThermalNormed*dFractionIsotropic\n",
    "cumulativePostUniform        = posteriorUniformNormed*dFractionIsotropic\n",
    "cumulativePostInverseThermal = posteriorInverseThermalNormed*dFractionIsotropic\n",
    "\n",
    "cumulativePrior              = np.cumsum(cumulativePrior)\n",
    "cumulativePostThermal        = np.cumsum(cumulativePostThermal)\n",
    "cumulativePostUniform        = np.cumsum(cumulativePostUniform)\n",
    "cumulativePostInverseThermal = np.cumsum(cumulativePostInverseThermal)\n",
    "\n",
    "print(\"Check\", np.sum(posteriorThermalNormed*dFractionIsotropic), \" == 1\")\n",
    "print(\"Check\", np.sum(posteriorUniformNormed*dFractionIsotropic), \" == 1\")\n",
    "print(\"Check\", np.sum(posteriorInverseThermalNormed*dFractionIsotropic), \" == 1\")"
   ]
  },
  {
   "cell_type": "code",
   "execution_count": 72,
   "metadata": {
    "collapsed": false
   },
   "outputs": [
    {
     "data": {
      "image/png": "[encoded data removed]",
      "text/plain": [
       "<matplotlib.figure.Figure at 0x10e055860>"
      ]
     },
     "metadata": {},
     "output_type": "display_data"
    }
   ],
   "source": [
    "figname=\"posterior_on_isotropic_fraction\"\n",
    "plt.figure()\n",
    "plt.clf()\n",
    "plt.plot(fractionIsotropicArray, prior, lw=2, ls=':', color='blue', label=r\"$\\mathrm{prior}$\")\n",
    "plt.plot(fractionIsotropicArray, posteriorThermalNormed, lw=2, ls='--', color='red', label=r\"$\\mathrm{posterior}$ - $\\mathrm{High}$\")\n",
    "plt.plot(fractionIsotropicArray, posteriorUniformNormed, lw=2, ls='-', color='red', label=r\"$\\mathrm{posterior}$ - $\\mathrm{Flat}$\")\n",
    "plt.plot(fractionIsotropicArray, posteriorInverseThermalNormed, lw=2, ls='-.', color='red', label=r\"$\\mathrm{posterior}$ - $\\mathrm{Low}$\")\n",
    "plt.xlim()\n",
    "plt.ylim()\n",
    "plt.xticks(fontsize=15)\n",
    "plt.yticks(fontsize=15)\n",
    "plt.legend(loc='upper left', framealpha=0.5, fancybox=True, fontsize=15)\n",
    "plt.xlabel(r\"$\\mathrm{Isotropic}$ $\\mathrm{Fraction}$ $f_i$\", fontsize=big_enough_font)\n",
    "plt.ylabel(r\"$p(f_i)$\", fontsize=big_enough_font)\n",
    "plt.tight_layout()\n",
    "plt.savefig(this_plot_folder + figname + \".png\", dpi=400)"
   ]
  },
  {
   "cell_type": "markdown",
   "metadata": {},
   "source": [
    "Calculate mean fraction from the posteriors"
   ]
  },
  {
   "cell_type": "code",
   "execution_count": 73,
   "metadata": {
    "collapsed": false
   },
   "outputs": [
    {
     "name": "stdout",
     "output_type": "stream",
     "text": [
      "prior: mean =  0.5\n",
      "uniform: mean =  0.713276309244\n",
      "thermal: mean =  0.779115853888\n",
      "inverse thermal: mean =  0.629497255575\n"
     ]
    }
   ],
   "source": [
    "mean_prior = np.mean(prior*fractionIsotropicArray)\n",
    "mean_posterior_uniform = np.mean(posteriorUniformNormed*fractionIsotropicArray)\n",
    "mean_posterior_thermal = np.mean(posteriorThermalNormed*fractionIsotropicArray)\n",
    "mean_posterior_inverse_thermal = np.mean(posteriorInverseThermalNormed*fractionIsotropicArray)\n",
    "\n",
    "print(\"prior: mean = \", mean_prior)\n",
    "print(\"uniform: mean = \", mean_posterior_uniform)\n",
    "print(\"thermal: mean = \", mean_posterior_thermal)\n",
    "print(\"inverse thermal: mean = \", mean_posterior_inverse_thermal)"
   ]
  },
  {
   "cell_type": "markdown",
   "metadata": {},
   "source": [
    "Calculate evidence for the models, and calculate evidence ratios between aligned models and mixture models"
   ]
  },
  {
   "cell_type": "code",
   "execution_count": 74,
   "metadata": {
    "collapsed": false
   },
   "outputs": [
    {
     "name": "stdout",
     "output_type": "stream",
     "text": [
      "\n",
      "All aligned\n",
      "uniform:  0.00817055735898\n",
      "thermal:  1.24123568222e-05\n",
      "inverse thermal: 0.118775381499\n",
      "\n",
      "All isotropic\n",
      "uniform:  1.0\n",
      "thermal:  0.695267317299\n",
      "inverse thermal: 1.34725001588\n",
      "\n",
      "All Zero\n",
      "zero:  0.397087575925\n",
      "check:  0.397087575925\n",
      "\n",
      "Mixture\n",
      "uniform:  0.388796480171\n",
      "thermal:  0.193129061732\n",
      "inverse thermal: 0.84324834263\n"
     ]
    }
   ],
   "source": [
    "evidence_all_aligned_uniform = np.exp(lnprob(np.array([1.0]), allEventsBinned, UNIFORM_SPIN_MAGNITUDE))\n",
    "evidence_all_aligned_thermal = np.exp(lnprob(np.array([1.0]), allEventsBinned, THERMAL_SPIN_MAGNITUDE))\n",
    "evidence_all_aligned_inverse_thermal = np.exp(lnprob(np.array([1.0]), allEventsBinned, INVERSE_THERMAL_SPIN_MAGNITUDE))\n",
    "\n",
    "print(\"\\nAll aligned\")\n",
    "print(\"uniform: \", evidence_all_aligned_uniform)\n",
    "print(\"thermal: \", evidence_all_aligned_thermal)\n",
    "print(\"inverse thermal:\", evidence_all_aligned_inverse_thermal)\n",
    "\n",
    "#-- NEED TO CHECK THIS!!\n",
    "evidence_all_isotropic_uniform = np.exp(lnprob(np.array([0.0]), allEventsBinned, UNIFORM_SPIN_MAGNITUDE))\n",
    "evidence_all_isotropic_thermal = np.exp(lnprob(np.array([0.0]), allEventsBinned, THERMAL_SPIN_MAGNITUDE))\n",
    "evidence_all_isotropic_inverse_thermal = np.exp(lnprob(np.array([0.0]), allEventsBinned, INVERSE_THERMAL_SPIN_MAGNITUDE))\n",
    "\n",
    "print(\"\\nAll isotropic\")\n",
    "print(\"uniform: \", evidence_all_isotropic_uniform)\n",
    "print(\"thermal: \", evidence_all_isotropic_thermal)\n",
    "print(\"inverse thermal:\", evidence_all_isotropic_inverse_thermal)\n",
    "\n",
    "evidence_all_zero = np.exp(lnprob(np.array([1.0]), allEventsBinned, ZERO_SPIN_MAGNITUDE))\n",
    "evidence_all_zero_check = np.exp(lnprob(np.array([0.0]), allEventsBinned, ZERO_SPIN_MAGNITUDE)) #-- check doesn't depend on lambda\n",
    "\n",
    "print(\"\\nAll Zero\")\n",
    "print(\"zero: \", evidence_all_zero)\n",
    "print(\"check: \", evidence_all_zero_check)\n",
    "\n",
    "evidence_mixture_uniform = posteriorSumUniform\n",
    "evidence_mixture_thermal = posteriorSumThermal\n",
    "evidence_mixture_inverse_thermal = posteriorSumInverseThermal\n",
    "\n",
    "print(\"\\nMixture\")\n",
    "print(\"uniform: \", evidence_mixture_uniform)\n",
    "print(\"thermal: \", evidence_mixture_thermal)\n",
    "print(\"inverse thermal:\", evidence_mixture_inverse_thermal)"
   ]
  },
  {
   "cell_type": "code",
   "execution_count": 75,
   "metadata": {
    "collapsed": false
   },
   "outputs": [
    {
     "name": "stdout",
     "output_type": "stream",
     "text": [
      "\n",
      "All isotropic\n",
      "Extremely High:  0.454512460195\n",
      "Extremely Low:  1.15584405534\n",
      "\n",
      "All Aligned\n",
      "Extremely High: 2.33572360413e-12\n",
      "Extremely Low: 0.992221838145\n"
     ]
    }
   ],
   "source": [
    "#-- NEED TO CHECK THIS!!\n",
    "evidence_all_aligned_extremely_high = np.exp(lnprob(np.array([1.0]), allEventsBinned, EXTREMELY_HIGH_SPIN_MAGNITUDE))\n",
    "evidence_all_aligned_extremely_low = np.exp(lnprob(np.array([1.0]), allEventsBinned, EXTREMELY_LOW_SPIN_MAGNITUDE))\n",
    "\n",
    "evidence_all_isotropic_extremely_high = np.exp(lnprob(np.array([0.0]), allEventsBinned, EXTREMELY_HIGH_SPIN_MAGNITUDE))\n",
    "evidence_all_isotropic_extremely_low = np.exp(lnprob(np.array([0.0]), allEventsBinned, EXTREMELY_LOW_SPIN_MAGNITUDE))\n",
    "\n",
    "print(\"\\nAll isotropic\")\n",
    "print(\"Extremely High: \", evidence_all_isotropic_extremely_high)\n",
    "print(\"Extremely Low: \", evidence_all_isotropic_extremely_low)\n",
    "\n",
    "print(\"\\nAll Aligned\")\n",
    "print(\"Extremely High:\", evidence_all_aligned_extremely_high)\n",
    "print(\"Extremely Low:\", evidence_all_aligned_extremely_low)"
   ]
  },
  {
   "cell_type": "code",
   "execution_count": 76,
   "metadata": {
    "collapsed": false
   },
   "outputs": [
    {
     "name": "stdout",
     "output_type": "stream",
     "text": [
      "Evidence ratio for extreme models\n",
      "Extremely Low: 0.858439193041\n",
      "corresponds to  -0.0956127732065 sigma\n",
      "Extremely High: 5.13896495408e-12\n"
     ]
    }
   ],
   "source": [
    "print(\"Evidence ratio for extreme models\")\n",
    "evidence_ratio_aligned_isotropic_extremely_low = evidence_all_aligned_extremely_low/evidence_all_isotropic_extremely_low\n",
    "print(\"Extremely Low:\", evidence_ratio_aligned_isotropic_extremely_low)\n",
    "\n",
    "C_evidence_ratio_aligned_isotropic_extreme_low = evidence_ratio_aligned_isotropic_extremely_low / (1.0 + evidence_ratio_aligned_isotropic_extremely_low)\n",
    "sigma_evidence_ratio_aligned_isotropic_extreme_low = scipy.stats.distributions.norm(0.0, 1.0).ppf(C_evidence_ratio_aligned_isotropic_extreme_low)\n",
    "\n",
    "print(\"corresponds to \", sigma_evidence_ratio_aligned_isotropic_extreme_low, \"sigma\")\n",
    "\n",
    "evidence_ratio_aligned_isotropic_extremely_high = evidence_all_aligned_extremely_high/evidence_all_isotropic_extremely_high\n",
    "print(\"Extremely High:\", evidence_ratio_aligned_isotropic_extremely_high)"
   ]
  },
  {
   "cell_type": "code",
   "execution_count": 77,
   "metadata": {
    "collapsed": false
   },
   "outputs": [
    {
     "name": "stdout",
     "output_type": "stream",
     "text": [
      "Evidence for proxy models\n",
      "Evidence aligned proxy =  0.057622209528\n",
      "Evidence isotropic proxy =  0.0664722810457\n",
      "Evidence ratio aligned/isotropic proxy =  0.866860721816\n",
      "corresponds to  -0.0895022057458 sigma\n"
     ]
    }
   ],
   "source": [
    "print(\"Evidence for proxy models\")\n",
    "evidence_aligned_proxy = np.exp(lnprob(np.array([1.0]), allEventsBinned, PROXY_ALIGNED))\n",
    "evidence_isotropic_proxy = np.exp(lnprob(np.array([1.0]), allEventsBinned, PROXY_ISOTROPIC))\n",
    "\n",
    "print(\"Evidence aligned proxy = \", evidence_aligned_proxy)\n",
    "print(\"Evidence isotropic proxy = \", evidence_isotropic_proxy)\n",
    "\n",
    "evidence_ratio_aligned_isotropic_proxy = evidence_aligned_proxy/evidence_isotropic_proxy\n",
    "\n",
    "print(\"Evidence ratio aligned/isotropic proxy = \", evidence_ratio_aligned_isotropic_proxy)\n",
    "\n",
    "C_evidence_ratio_aligned_isotropic_proxy = evidence_ratio_aligned_isotropic_proxy / (1.0 + evidence_ratio_aligned_isotropic_proxy)\n",
    "sigma_evidence_ratio_aligned_isotropic_proxy = scipy.stats.distributions.norm(0.0, 1.0).ppf(C_evidence_ratio_aligned_isotropic_proxy)\n",
    "\n",
    "print(\"corresponds to \", sigma_evidence_ratio_aligned_isotropic_proxy, \"sigma\")"
   ]
  },
  {
   "cell_type": "code",
   "execution_count": 78,
   "metadata": {
    "collapsed": false
   },
   "outputs": [
    {
     "name": "stdout",
     "output_type": "stream",
     "text": [
      "\n",
      "Evidence ratios\n",
      "Isotropic\n",
      "FI 1.0 0.0\n",
      "II 0.695267317299 -0.157848185184\n",
      "DI 1.34725001588 0.129448197387\n",
      "\n",
      "Aligned\n",
      "FA 0.00817055735898 -2.08774831682\n",
      "IA 1.24123568222e-05 -4.9061457481\n",
      "DA 0.118775381499 -0.925273565979\n",
      "\n",
      "Mixture\n",
      "FM 0.388796480171 -0.410277675457\n",
      "IM 0.193129061732 -0.714152369411\n",
      "DM 0.84324834263 -0.074044503726\n",
      "\n",
      "Zero\n",
      "zero:  0.397087575925\n"
     ]
    }
   ],
   "source": [
    "#-- Calculate evidence ratios\n",
    "\n",
    "evidence_ratio_all_isotropic_uniform_to_isotropic_uniform = evidence_all_isotropic_uniform/evidence_all_isotropic_uniform\n",
    "evidence_ratio_all_isotropic_thermal_to_isotropic_uniform = evidence_all_isotropic_thermal/evidence_all_isotropic_uniform\n",
    "evidence_ratio_all_isotropic_inverse_thermal_to_isotropic_uniform = evidence_all_isotropic_inverse_thermal/evidence_all_isotropic_uniform\n",
    "\n",
    "evidence_ratio_all_aligned_uniform_to_isotropic_uniform = evidence_all_aligned_uniform/evidence_all_isotropic_uniform\n",
    "evidence_ratio_all_aligned_thermal_to_isotropic_uniform = evidence_all_aligned_thermal/evidence_all_isotropic_uniform\n",
    "evidence_ratio_all_aligned_inverse_thermal_to_isotropic_uniform = evidence_all_aligned_inverse_thermal/evidence_all_isotropic_uniform\n",
    "\n",
    "evidence_ratio_mixture_uniform_to_isotropic_uniform = evidence_mixture_uniform/evidence_all_isotropic_uniform\n",
    "evidence_ratio_mixture_thermal_to_isotropic_uniform = evidence_mixture_thermal/evidence_all_isotropic_uniform\n",
    "evidence_ratio_mixture_inverse_thermal_to_isotropic_uniform = evidence_mixture_inverse_thermal/evidence_all_isotropic_uniform\n",
    "\n",
    "evidence_ratio_all_zero_to_isotropic_uniform = evidence_all_zero / evidence_all_isotropic_uniform\n",
    "\n",
    "print(\"\\nEvidence ratios\")\n",
    "print(\"Isotropic\")\n",
    "print(\"FI\", evidence_ratio_all_isotropic_uniform_to_isotropic_uniform, np.log10(evidence_ratio_all_isotropic_uniform_to_isotropic_uniform))\n",
    "print(\"II\", evidence_ratio_all_isotropic_thermal_to_isotropic_uniform, np.log10(evidence_ratio_all_isotropic_thermal_to_isotropic_uniform))\n",
    "print(\"DI\", evidence_ratio_all_isotropic_inverse_thermal_to_isotropic_uniform, np.log10(evidence_ratio_all_isotropic_inverse_thermal_to_isotropic_uniform))\n",
    "\n",
    "print(\"\\nAligned\")\n",
    "print(\"FA\", evidence_ratio_all_aligned_uniform_to_isotropic_uniform, np.log10(evidence_ratio_all_aligned_uniform_to_isotropic_uniform))\n",
    "print(\"IA\", evidence_ratio_all_aligned_thermal_to_isotropic_uniform, np.log10(evidence_ratio_all_aligned_thermal_to_isotropic_uniform))\n",
    "print(\"DA\", evidence_ratio_all_aligned_inverse_thermal_to_isotropic_uniform, np.log10(evidence_ratio_all_aligned_inverse_thermal_to_isotropic_uniform))\n",
    "\n",
    "print(\"\\nMixture\")\n",
    "print(\"FM\", evidence_ratio_mixture_uniform_to_isotropic_uniform, np.log10(evidence_ratio_mixture_uniform_to_isotropic_uniform))\n",
    "print(\"IM\", evidence_ratio_mixture_thermal_to_isotropic_uniform, np.log10(evidence_ratio_mixture_thermal_to_isotropic_uniform))\n",
    "print(\"DM\", evidence_ratio_mixture_inverse_thermal_to_isotropic_uniform, np.log10(evidence_ratio_mixture_inverse_thermal_to_isotropic_uniform))\n",
    "\n",
    "print(\"\\nZero\")\n",
    "print(\"zero: \", evidence_ratio_all_zero_to_isotropic_uniform)\n",
    "\n",
    "# evidence_ratio_something = 0\n",
    "\n",
    "# print(\"Z_aligned/Z_mix = \", evidence_ratio_something)"
   ]
  },
  {
   "cell_type": "code",
   "execution_count": 109,
   "metadata": {
    "collapsed": true
   },
   "outputs": [],
   "source": [
    "def sigma_from_odds_ratio(odds_ratio):\n",
    "    \"\"\"\n",
    "    Convert odds ratio to equivalent sigma\n",
    "    \n",
    "    Parameters\n",
    "    ------------\n",
    "    odds_ratio : float\n",
    "    \n",
    "    Returns\n",
    "    --------\n",
    "    \n",
    "    \n",
    "    -- Simon Stevenson\n",
    "    \"\"\"\n",
    "    return scipy.stats.distributions.norm(0.0, 1.0).ppf(1.0 - (odds_ratio/2.0))"
   ]
  },
  {
   "cell_type": "code",
   "execution_count": 110,
   "metadata": {
    "collapsed": false
   },
   "outputs": [
    {
     "name": "stdout",
     "output_type": "stream",
     "text": [
      "0.00817055735898\n",
      "2.644939295\n"
     ]
    }
   ],
   "source": [
    "evidence_ratio_all_aligned_uniform_to_isotropic_uniform = evidence_all_aligned_uniform/evidence_all_isotropic_uniform\n",
    "print(evidence_ratio_all_aligned_uniform_to_isotropic_uniform)\n",
    "print(sigma_from_odds_ratio(evidence_ratio_all_aligned_uniform_to_isotropic_uniform))"
   ]
  },
  {
   "cell_type": "code",
   "execution_count": 112,
   "metadata": {
    "collapsed": false
   },
   "outputs": [
    {
     "name": "stdout",
     "output_type": "stream",
     "text": [
      "odds ratio =  0.0881613509737\n",
      "sigma =  1.70517736076\n"
     ]
    }
   ],
   "source": [
    "evidence_ratio_all_aligned_decreasing_to_isotropic_decreasing = evidence_all_aligned_inverse_thermal/evidence_all_isotropic_inverse_thermal\n",
    "print(\"odds ratio = \", evidence_ratio_all_aligned_decreasing_to_isotropic_decreasing)\n",
    "print(\"sigma = \", sigma_from_odds_ratio(evidence_ratio_all_aligned_decreasing_to_isotropic_decreasing))"
   ]
  },
  {
   "cell_type": "markdown",
   "metadata": {},
   "source": [
    "Plot cumulative posteriors"
   ]
  },
  {
   "cell_type": "code",
   "execution_count": 81,
   "metadata": {
    "collapsed": false
   },
   "outputs": [
    {
     "data": {
      "image/png": "[encoded data removed]",
      "text/plain": [
       "<matplotlib.figure.Figure at 0x1161e9400>"
      ]
     },
     "metadata": {},
     "output_type": "display_data"
    }
   ],
   "source": [
    "figname=\"isotropic_fraction_cumulative_posterior\"\n",
    "plt.figure()\n",
    "plt.clf()\n",
    "plt.plot(fractionIsotropicArray, cumulativePrior, lw=2, c='b', ls=':', label=r\"$\\mathrm{prior}$\")\n",
    "plt.plot(fractionIsotropicArray, cumulativePostInverseThermal, lw=2, c='r', ls='-.', label=r\"$\\mathrm{posterior}$ - $\\mathrm{Low}$\")\n",
    "plt.plot(fractionIsotropicArray, cumulativePostUniform, lw=2, c='r', ls='-', label=r\"$\\mathrm{posterior}$ - $\\mathrm{Flat}$\")\n",
    "plt.plot(fractionIsotropicArray, cumulativePostThermal, lw=2, c='r', ls='--', label=r\"$\\mathrm{posterior}$ - $\\mathrm{High}$\")\n",
    "plt.xlim([0.0, 1.0])\n",
    "plt.ylim([0.0, 1.0])\n",
    "plt.xticks(fontsize=15)\n",
    "plt.yticks(fontsize=15)\n",
    "plt.xlabel(r\"$\\mathrm{Isotropic}$ $\\mathrm{Fraction}$ $f_i$\", fontsize=big_enough_font)\n",
    "plt.ylabel(r\"$P(f_i)$\", fontsize=big_enough_font)\n",
    "plt.legend(loc='upper left', framealpha=0.5, fancybox=True, fontsize=15)\n",
    "plt.tight_layout()\n",
    "plt.savefig(this_plot_folder + figname + \".png\", dpi=400)"
   ]
  },
  {
   "cell_type": "markdown",
   "metadata": {},
   "source": [
    "Calculate lower 90% on mixture fraction"
   ]
  },
  {
   "cell_type": "code",
   "execution_count": 82,
   "metadata": {
    "collapsed": true
   },
   "outputs": [],
   "source": [
    "def calculate_percentile(x, fraction_isotropic, cumulative_post):\n",
    "    \"\"\"\n",
    "    Calculate the xth percentile of the posterior\n",
    "    \n",
    "    Parameters\n",
    "    ------------\n",
    "    x : float\n",
    "        percentile to calculate (as a fraction 0-1)\n",
    "    cumulative_post : float array\n",
    "        Array containing cumulative posterior \n",
    "        \n",
    "    Returns\n",
    "    --------\n",
    "    percentile : float\n",
    "        xth percentile of posterior\n",
    "    \n",
    "    -- Simon Stevenson\n",
    "    \"\"\"\n",
    "    return fraction_isotropic[np.argmin(np.abs(cumulative_post - x))]"
   ]
  },
  {
   "cell_type": "code",
   "execution_count": 83,
   "metadata": {
    "collapsed": false
   },
   "outputs": [
    {
     "name": "stdout",
     "output_type": "stream",
     "text": [
      "Lower 90% limits are:\n",
      "prior:  0.0990990990991\n",
      "post decreasing:  0.262262262262\n",
      "post flat:  0.389389389389\n",
      "post increasing:  0.517517517518\n"
     ]
    }
   ],
   "source": [
    "print(\"Lower 90% limits are:\")\n",
    "print(\"prior: \", calculate_percentile(0.1, fractionIsotropicArray, cumulativePrior))\n",
    "print(\"post decreasing: \", calculate_percentile(0.1, fractionIsotropicArray, cumulativePostInverseThermal))\n",
    "print(\"post flat: \", calculate_percentile(0.1, fractionIsotropicArray, cumulativePostUniform))\n",
    "print(\"post increasing: \", calculate_percentile(0.1, fractionIsotropicArray, cumulativePostThermal))"
   ]
  },
  {
   "cell_type": "markdown",
   "metadata": {},
   "source": [
    "Remake Will's Figure"
   ]
  },
  {
   "cell_type": "code",
   "execution_count": 84,
   "metadata": {
    "collapsed": false
   },
   "outputs": [
    {
     "data": {
      "image/png": "[encoded data removed]",
      "text/plain": [
       "<matplotlib.figure.Figure at 0x126bd2ef0>"
      ]
     },
     "metadata": {},
     "output_type": "display_data"
    }
   ],
   "source": [
    "figname=\"Wills_evidence_ratio_figure_with_mixture_models\"\n",
    "plt.figure()\n",
    "plt.clf()\n",
    "toplot=[evidence_ratio_all_isotropic_uniform_to_isotropic_uniform,\n",
    "        evidence_ratio_all_aligned_uniform_to_isotropic_uniform,\n",
    "        evidence_ratio_mixture_uniform_to_isotropic_uniform,\n",
    "        evidence_ratio_all_isotropic_thermal_to_isotropic_uniform, \n",
    "        evidence_ratio_all_aligned_thermal_to_isotropic_uniform,\n",
    "        evidence_ratio_mixture_thermal_to_isotropic_uniform,\n",
    "        evidence_ratio_all_isotropic_inverse_thermal_to_isotropic_uniform,\n",
    "        evidence_ratio_all_aligned_inverse_thermal_to_isotropic_uniform,\n",
    "        evidence_ratio_mixture_inverse_thermal_to_isotropic_uniform,\n",
    "        evidence_ratio_all_zero_to_isotropic_uniform]\n",
    "labels = [r'$\\mathrm{FI}$', r'$\\mathrm{FA}$', r'$\\mathrm{FM}$', r'$\\mathrm{II}$', r'$\\mathrm{IA}$', r'$\\mathrm{IM}$', r'$\\mathrm{DI}$', r'$\\mathrm{DA}$', r'$\\mathrm{DM}$', r'$\\mathrm{Z}$']\n",
    "bar_loc = np.arange(len(labels))+1\n",
    "tick_loc = bar_loc+0.5  \n",
    "plt.bar(bar_loc, toplot, log=True, color=[0.0/255.0,114.0/255.0,178/255.0])\n",
    "plt.grid()\n",
    "plt.xlim([0.5, 11.5])\n",
    "plt.ylim()\n",
    "plt.xticks(tick_loc, labels, fontsize=big_enough_font)\n",
    "plt.yticks(fontsize=big_enough_font)\n",
    "plt.xlabel(r\"\", fontsize=big_enough_font)\n",
    "plt.ylabel(r\"$\\mathrm{p(d|Model) / p(d|FI)}$\", fontsize=big_enough_font)\n",
    "plt.tight_layout()\n",
    "plt.savefig(this_plot_folder + figname + \".png\", dpi=400)"
   ]
  },
  {
   "cell_type": "code",
   "execution_count": 85,
   "metadata": {
    "collapsed": false
   },
   "outputs": [
    {
     "name": "stdout",
     "output_type": "stream",
     "text": [
      "[  1.5   2.5   3.5   4.5   5.5   6.5   7.5   8.5   9.5  10.5]\n",
      "[ 1  2  3  4  5  6  7  8  9 10]\n"
     ]
    }
   ],
   "source": [
    "print(tick_loc)\n",
    "print(bar_loc)"
   ]
  },
  {
   "cell_type": "code",
   "execution_count": 86,
   "metadata": {
    "collapsed": false
   },
   "outputs": [
    {
     "data": {
      "image/png": "[encoded data removed]",
      "text/plain": [
       "<matplotlib.figure.Figure at 0x125a21ba8>"
      ]
     },
     "metadata": {},
     "output_type": "display_data"
    }
   ],
   "source": [
    "figname=\"evidence_ratio_figure_mixture_models\"\n",
    "plt.figure()\n",
    "plt.clf()\n",
    "toplot=[evidence_ratio_all_isotropic_uniform_to_isotropic_uniform,\n",
    "        evidence_ratio_mixture_uniform_to_isotropic_uniform,\n",
    "        evidence_ratio_mixture_thermal_to_isotropic_uniform,\n",
    "        evidence_ratio_mixture_inverse_thermal_to_isotropic_uniform]\n",
    "plt.bar([1,2,3,4],toplot, log=True, color=[0.0/255.0,114.0/255.0,178/255.0])\n",
    "plt.grid()\n",
    "plt.xlim()\n",
    "plt.ylim()\n",
    "plt.xticks([1.5,2.5,3.5,4.5], [r'$\\mathrm{FI}$', r'$\\mathrm{FM}$', r'$\\mathrm{IM}$', r'$\\mathrm{DM}$'], fontsize=big_enough_font)\n",
    "plt.yticks(fontsize=big_enough_font)\n",
    "plt.xlabel(r\"\", fontsize=big_enough_font)\n",
    "plt.ylabel(r\"$\\mathrm{p(d|M) / p(d|FI)}$\", fontsize=big_enough_font)\n",
    "plt.tight_layout()\n",
    "plt.savefig(this_plot_folder + figname + \".png\", dpi=400)"
   ]
  },
  {
   "cell_type": "code",
   "execution_count": null,
   "metadata": {
    "collapsed": true
   },
   "outputs": [],
   "source": []
  },
  {
   "cell_type": "markdown",
   "metadata": {},
   "source": [
    "Put evidence ratio calculation in a for loop, make a plot of typical spin magnitude against sigma. \n",
    "Could include 2 axes, one for power law power and one for mean(a)"
   ]
  },
  {
   "cell_type": "code",
   "execution_count": 87,
   "metadata": {
    "collapsed": true
   },
   "outputs": [],
   "source": [
    "power_law_powers = np.array([0, 1, 2, 3, 4, 5, 6])\n",
    "mean_a = np.zeros(len(power_law_powers))\n",
    "evidences_aligned_extremely_low = np.zeros(len(power_law_powers))\n",
    "evidences_isotropic_extremely_low = np.zeros(len(power_law_powers))\n",
    "evidences_ratios_extremely_low = np.zeros(len(power_law_powers))"
   ]
  },
  {
   "cell_type": "code",
   "execution_count": 88,
   "metadata": {
    "collapsed": true
   },
   "outputs": [],
   "source": [
    "def p_low_alpha(x, alpha):\n",
    "    return (1.0-x)**alpha"
   ]
  },
  {
   "cell_type": "code",
   "execution_count": 89,
   "metadata": {
    "collapsed": false
   },
   "outputs": [],
   "source": [
    "for i in range(len(power_law_powers)):\n",
    "    \n",
    "    #-- Generate spin magnitudes\n",
    "    \n",
    "    nmultiplier=10\n",
    "    chi1_extremely_low = np.random.uniform(0.0, 1.0, nmultiplier*npts)\n",
    "    prob_chi1_extremely_low = p_low_alpha(chi1_extremely_low, power_law_powers[i])\n",
    "    chi1_rands = np.random.uniform(0.0, max(prob_chi1_extremely_low), nmultiplier*npts)\n",
    "    chi1_keep = chi1_rands < prob_chi1_extremely_low\n",
    "    chi1_extremely_low = chi1_extremely_low[chi1_keep]\n",
    "    if(len(chi1_extremely_low) > npts):\n",
    "        chi1_extremely_low = chi1_extremely_low[0:npts]\n",
    "    else:\n",
    "        print(len(chi1_extremely_low))\n",
    "\n",
    "    nmultiplier=10\n",
    "    chi2_extremely_low = np.random.uniform(0.0, 1.0, nmultiplier*npts)\n",
    "    prob_chi2_extremely_low = p_low_alpha(chi2_extremely_low, power_law_powers[i])\n",
    "    chi2_rands = np.random.uniform(0.0, max(prob_chi2_extremely_low), nmultiplier*npts)\n",
    "    chi2_keep = chi2_rands < prob_chi2_extremely_low\n",
    "    chi2_extremely_low = chi2_extremely_low[chi2_keep]\n",
    "    if(len(chi2_extremely_low) > npts):\n",
    "        chi2_extremely_low = chi2_extremely_low[0:npts]\n",
    "    else:\n",
    "        print(len(chi2_extremely_low))\n",
    "    \n",
    "    #-- Generate chi eff\n",
    "    \n",
    "    chi_eff_aligned_extremely_low = chi_eff(mass_ratio, chi1_extremely_low, chi2_extremely_low, aligned_model_costheta1, aligned_model_costheta2)\n",
    "    chi_eff_isotropic_extremely_low = chi_eff(mass_ratio, chi1_extremely_low, chi2_extremely_low, isotropic_model_costheta1, isotropic_model_costheta2)\n",
    "\n",
    "    #-- Calculate evidence for aligned and isotropic models\n",
    "    \n",
    "    evidences_aligned_extremely_low[i] = np.exp(lnprob(np.array([1.0]), allEventsBinned, EXTREMELY_LOW_SPIN_MAGNITUDE))\n",
    "    evidences_isotropic_extremely_low[i] = np.exp(lnprob(np.array([0.0]), allEventsBinned, EXTREMELY_LOW_SPIN_MAGNITUDE))\n",
    "\n",
    "    #-- Calculate evidence ratio aligned to isotropic model\n",
    "    evidences_ratios_extremely_low[i] = evidences_aligned_extremely_low[i]/evidences_isotropic_extremely_low[i]\n",
    "    \n",
    "    #print(i, np.mean(chi1_extremely_low))\n",
    "    \n",
    "    mean_a[i] = np.mean(chi1_extremely_low)\n",
    "    \n",
    "\n",
    "\n",
    "# print(\"\\nAll isotropic\")\n",
    "# print(\"Extremely High: \", evidence_all_isotropic_extremely_high)\n",
    "# print(\"Extremely Low: \", evidence_all_isotropic_extremely_low)\n",
    "\n",
    "# print(\"\\nAll Aligned\")\n",
    "# print(\"Extremely High:\", evidence_all_aligned_extremely_high)\n",
    "# print(\"Extremely Low:\", evidence_all_aligned_extremely_low)"
   ]
  },
  {
   "cell_type": "code",
   "execution_count": 123,
   "metadata": {
    "collapsed": false
   },
   "outputs": [
    {
     "name": "stdout",
     "output_type": "stream",
     "text": [
      "[ 0.00829437  0.08801855  0.27797554  0.55318063  0.86033002  1.15917882\n",
      "  1.42357634]\n"
     ]
    }
   ],
   "source": [
    "print(evidences_ratios_extremely_low)"
   ]
  },
  {
   "cell_type": "code",
   "execution_count": 124,
   "metadata": {
    "collapsed": false
   },
   "outputs": [
    {
     "name": "stdout",
     "output_type": "stream",
     "text": [
      "[ 0.17261648  0.28722992  0.03230224 ...,  0.07074466  0.02967268\n",
      "  0.22649318]\n",
      "0.125309166542\n"
     ]
    }
   ],
   "source": [
    "print(chi1_extremely_low)\n",
    "\n",
    "print(np.mean(chi1_extremely_low))"
   ]
  },
  {
   "cell_type": "code",
   "execution_count": 125,
   "metadata": {
    "collapsed": false
   },
   "outputs": [
    {
     "name": "stdout",
     "output_type": "stream",
     "text": [
      "[ 0.4996592   0.33372608  0.24978518  0.19970837  0.16662232  0.14285928\n",
      "  0.12530917]\n"
     ]
    }
   ],
   "source": [
    "print(mean_a)"
   ]
  },
  {
   "cell_type": "code",
   "execution_count": 126,
   "metadata": {
    "collapsed": false
   },
   "outputs": [
    {
     "data": {
      "image/png": "[encoded data removed]",
      "text/plain": [
       "<matplotlib.figure.Figure at 0x10cc13048>"
      ]
     },
     "metadata": {},
     "output_type": "display_data"
    }
   ],
   "source": [
    "plt.figure()\n",
    "plt.clf()\n",
    "plt.plot(power_law_powers, mean_a, lw=2)\n",
    "plt.xlim()\n",
    "plt.ylim()\n",
    "plt.xticks(fontsize=20)\n",
    "plt.yticks(fontsize=20)\n",
    "plt.xlabel(r\"$\\mathrm{Power}$ $\\mathrm{Law}$ $\\alpha$\", fontsize=20)\n",
    "plt.ylabel(r\"$\\mathrm{Average}$ $\\mathrm{Spin}$ $\\mathrm{Magnitude}$ $a$\", fontsize=20)\n",
    "plt.tight_layout()"
   ]
  },
  {
   "cell_type": "code",
   "execution_count": 127,
   "metadata": {
    "collapsed": true
   },
   "outputs": [],
   "source": [
    "sigma_evidences_ratios_extremely_low = sigma_from_odds_ratio(evidences_ratios_extremely_low)"
   ]
  },
  {
   "cell_type": "code",
   "execution_count": 128,
   "metadata": {
    "collapsed": false
   },
   "outputs": [
    {
     "name": "stdout",
     "output_type": "stream",
     "text": [
      "[ 2.63984606  1.70594379  1.08487834  0.59300078  0.17595407 -0.20084321\n",
      " -0.55861623]\n"
     ]
    }
   ],
   "source": [
    "print(sigma_evidences_ratios_extremely_low)"
   ]
  },
  {
   "cell_type": "code",
   "execution_count": 119,
   "metadata": {
    "collapsed": false
   },
   "outputs": [],
   "source": [
    "def tick_function(X):\n",
    "    return [\"%.2f\" % z for z in X]"
   ]
  },
  {
   "cell_type": "code",
   "execution_count": 121,
   "metadata": {
    "collapsed": false
   },
   "outputs": [
    {
     "data": {
      "image/png": "[encoded data removed]",
      "text/plain": [
       "<matplotlib.figure.Figure at 0x12e7a04e0>"
      ]
     },
     "metadata": {},
     "output_type": "display_data"
    },
    {
     "data": {
      "image/png": "[encoded data removed]",
      "text/plain": [
       "<matplotlib.figure.Figure at 0x126b94b38>"
      ]
     },
     "metadata": {},
     "output_type": "display_data"
    }
   ],
   "source": [
    "plt.figure()\n",
    "plt.clf()\n",
    "plt.plot(power_law_powers, evidences_ratios_extremely_low, lw=2)\n",
    "plt.xlim()\n",
    "plt.ylim()\n",
    "plt.xticks(fontsize=20)\n",
    "plt.yticks(fontsize=20)\n",
    "plt.xlabel(r\"$\\mathrm{Power}$ $\\mathrm{Law}$ $\\alpha$\", fontsize=20)\n",
    "plt.ylabel(r\"$\\mathrm{Evidence}$ $\\mathrm{Ratio}$\", fontsize=20)\n",
    "plt.yscale('log')\n",
    "plt.tight_layout()\n",
    "\n",
    "plt.figure()\n",
    "plt.clf()\n",
    "plt.plot(power_law_powers, sigma_evidences_ratios_extremely_low, lw=2)\n",
    "plt.xlim()\n",
    "plt.ylim()\n",
    "plt.xticks(fontsize=20)\n",
    "plt.yticks(fontsize=20)\n",
    "plt.xlabel(r\"$\\mathrm{Power}$ $\\mathrm{Law}$ $\\alpha$\", fontsize=20)\n",
    "plt.ylabel(r\"$\\mathrm{Sigma}$\", fontsize=20)\n",
    "plt.tight_layout()"
   ]
  },
  {
   "cell_type": "code",
   "execution_count": null,
   "metadata": {
    "collapsed": true
   },
   "outputs": [],
   "source": []
  },
  {
   "cell_type": "code",
   "execution_count": 129,
   "metadata": {
    "collapsed": false
   },
   "outputs": [
    {
     "data": {
      "image/png": "[encoded data removed]",
      "text/plain": [
       "<matplotlib.figure.Figure at 0x10cc56f60>"
      ]
     },
     "metadata": {},
     "output_type": "display_data"
    }
   ],
   "source": [
    "fig = plt.figure()\n",
    "fig.clf()\n",
    "ax1 = fig.add_subplot(111)\n",
    "ax2 = ax1.twiny()\n",
    "ax1.plot(power_law_powers, sigma_evidences_ratios_extremely_low, lw=2, color='b', alpha=1)\n",
    "# ax1.set_xticklabels( fontsize=15)\n",
    "# ax1.set_yticklabels(ax1.get_yticklabels(), fontsize=15)\n",
    "ax1.set_xlabel(r\"$\\mathrm{Power}$ $\\mathrm{Law}$ $\\alpha$\", fontsize=20)\n",
    "ax1.set_ylabel(r\"$\\mathrm{Sigma}$ $\\sigma_\\mathrm{I/A}$\", fontsize=20)\n",
    "\n",
    "plt.axhline(0, c='k', ls=':')\n",
    "# plt.xticks(fontsize=15)\n",
    "ax1.tick_params(labelsize=15)\n",
    "\n",
    "ax2.set_xlim(ax1.get_xlim())\n",
    "# ax2.set_xticks()\n",
    "ax2.tick_params(labelsize=15)\n",
    "ax2.set_xticklabels(tick_function(mean_a)) #, fontsize=15\n",
    "ax2.set_xlabel(r\"$\\mathrm{Average}$ $\\mathrm{Spin}$ $\\mathrm{Magnitude}$ $\\bar{a}$\", fontsize=20)\n",
    "\n",
    "plt.savefig(this_plot_folder + \"sigma_v_alpha.png\", dpi=400, bbox_inches='tight')\n"
   ]
  },
  {
   "cell_type": "code",
   "execution_count": null,
   "metadata": {
    "collapsed": true
   },
   "outputs": [],
   "source": []
  }
 ],
 "metadata": {
  "kernelspec": {
   "display_name": "Python [default]",
   "language": "python",
   "name": "python3"
  },
  "language_info": {
   "codemirror_mode": {
    "name": "ipython",
    "version": 3
   },
   "file_extension": ".py",
   "mimetype": "text/x-python",
   "name": "python",
   "nbconvert_exporter": "python",
   "pygments_lexer": "ipython3",
   "version": "3.5.2"
  }
 },
 "nbformat": 4,
 "nbformat_minor": 0
}
